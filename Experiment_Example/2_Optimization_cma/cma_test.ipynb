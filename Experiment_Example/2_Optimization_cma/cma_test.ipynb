{
 "cells": [
  {
   "cell_type": "code",
   "execution_count": 7,
   "metadata": {},
   "outputs": [],
   "source": [
    "import cma\n",
    "import numpy as np\n",
    "import pickle"
   ]
  },
  {
   "cell_type": "code",
   "execution_count": null,
   "metadata": {},
   "outputs": [],
   "source": [
    "def fitness(arg,bay_opt_name):\n",
    "    factor_ramp = arg[0]\n",
    "    nano_R = 500e-9*arg[1]\n",
    "\n",
    "    k_alpha = Osiris_model(factor_ramp,nano_R,bay_opt_name)\n",
    "    return -k_alpha\n",
    "\n",
    "bay_opt_name = 'filename'\n",
    "opts = cma.CMAOptions()\n",
    "opts.set(\"bounds\", [[0.1, 0.5], [2, 50]])\n",
    "\n",
    "opts.set('popsize', 8)\n",
    "opts.set('ftarget', -10**(-20))\n",
    "es = cma.CMAEvolutionStrategy([1, 1], 2, opts)\n",
    "\n",
    "while not es.stop():\n",
    "    X = es.ask()\n",
    "    print(X)\n",
    "    #f_values = pool.map(fitness, X)#.get()\n",
    "    f_values = np.zeros(len(X))\n",
    "    for i in range(len(X)):\n",
    "        f_values[i] = fitness(X[i],bay_opt_name)\n",
    "    # use chunksize parameter as es.popsize/len(pool)?\n",
    "    es.tell(X, f_values)\n",
    "    es.disp()\n",
    "    es.logger.add()\n",
    "    pickle.dump(es,open(\"/scratch/project_465000285/pablosm/saved_es\",\"wb\"))"
   ]
  },
  {
   "cell_type": "code",
   "execution_count": 25,
   "metadata": {},
   "outputs": [
    {
     "name": "stdout",
     "output_type": "stream",
     "text": [
      "(4_w,8)-aCMA-ES (mu_w=2.6,w_1=52%) in dimension 2 (seed=433063, Mon Sep  2 14:43:26 2024)\n",
      "[array([1.1606893, 0.6472786]), array([0.7050267 , 3.05544109]), array([0.43959774, 2.98652732]), array([0.71718155, 4.58843191]), array([0.37228327, 2.56957586]), array([0.85328398, 1.81811243]), array([0.33638978, 1.21226434]), array([0.77005327, 0.71674003])]\n",
      "Iterat #Fevals   function value  axis ratio  sigma  min&max std  t[m:s]\n",
      "    1      8 -1.645369364171304e-06 1.0e+00 2.57e+00  6e-01  3e+00 0:00.0\n"
     ]
    },
    {
     "name": "stderr",
     "output_type": "stream",
     "text": [
      "C:\\Users\\User\\AppData\\Roaming\\Python\\Python311\\site-packages\\cma\\evolution_strategy.py:1929: UserWarning: Sampling standard deviation i=0 at iteration 0 change by 0.31666666666666665 to stds[0]=0.6333333333333333\n",
      "  warnings.warn(\"Sampling standard deviation i={0} at iteration {1}\"\n"
     ]
    }
   ],
   "source": [
    "def fitness(arg,bay_opt_name):\n",
    "    factor_ramp = arg[0]\n",
    "    nano_R = 500e-9*arg[1]\n",
    "\n",
    "    k_alpha = factor_ramp* nano_R\n",
    "    return -k_alpha\n",
    "\n",
    "bay_opt_name = 'filename'\n",
    "opts = cma.CMAOptions()\n",
    "opts.set(\"bounds\", [[0.1, 0.5], [2, 50]])\n",
    "\n",
    "opts.set('popsize', 8)\n",
    "opts.set('ftarget', -10**(-20))\n",
    "es = cma.CMAEvolutionStrategy([0.2, 1], 2, opts)\n",
    "\n",
    "while not es.stop():\n",
    "    X = es.ask()\n",
    "    print(X)\n",
    "    #f_values = pool.map(fitness, X)#.get()\n",
    "    f_values = np.zeros(len(X))\n",
    "    for i in range(len(X)):\n",
    "        f_values[i] = fitness(X[i],bay_opt_name)\n",
    "    # use chunksize parameter as es.popsize/len(pool)?\n",
    "    es.tell(X, f_values)\n",
    "    es.disp()\n",
    "    es.logger.add()\n",
    "    pickle.dump(es,open(\"C:\\\\Users\\\\User\\\\Desktop\\\\Doc_Tango\\\\Experiment_Example\\\\out\",\"wb\"))"
   ]
  }
 ],
 "metadata": {
  "kernelspec": {
   "display_name": "Python 3",
   "language": "python",
   "name": "python3"
  },
  "language_info": {
   "codemirror_mode": {
    "name": "ipython",
    "version": 3
   },
   "file_extension": ".py",
   "mimetype": "text/x-python",
   "name": "python",
   "nbconvert_exporter": "python",
   "pygments_lexer": "ipython3",
   "version": "3.11.7"
  }
 },
 "nbformat": 4,
 "nbformat_minor": 2
}
