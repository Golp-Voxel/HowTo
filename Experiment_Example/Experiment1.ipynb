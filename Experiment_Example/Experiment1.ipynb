{
 "cells": [
  {
   "cell_type": "code",
   "execution_count": 1,
   "metadata": {},
   "outputs": [],
   "source": [
    "import tango\n",
    "import cv2\n",
    "import json\n",
    "import numpy as np\n",
    "import matplotlib.pyplot as plt\n",
    "import time\n",
    "Z = 1\n",
    "X = 2\n",
    "Y = 3"
   ]
  },
  {
   "cell_type": "markdown",
   "metadata": {},
   "source": [
    "## Init the Shutter controlled by a Arduino Tango communication"
   ]
  },
  {
   "cell_type": "code",
   "execution_count": 31,
   "metadata": {},
   "outputs": [
    {
     "name": "stdout",
     "output_type": "stream",
     "text": [
      "ON\n"
     ]
    }
   ],
   "source": [
    "#insert arduino serial port to initialize connection with arduino\n",
    "Arduino_Shutter = tango.DeviceProxy(\"voxel/Arduino_Shutter/1\")\n",
    "print(Arduino_Shutter.state())\n",
    "Arduino_Shutter.set_timeout_millis(10000)\n"
   ]
  },
  {
   "cell_type": "code",
   "execution_count": 32,
   "metadata": {},
   "outputs": [
    {
     "data": {
      "text/plain": [
       "'Device is connected'"
      ]
     },
     "execution_count": 32,
     "metadata": {},
     "output_type": "execute_result"
    }
   ],
   "source": [
    "ArduinoInfo =   {\n",
    "                    \"Name\"      : \"AS1\",\n",
    "                    \"COM\"       : 4\n",
    "                }\n",
    "ArduinoInfo = json.dumps(ArduinoInfo)\n",
    "Arduino_Shutter.Connect(ArduinoInfo)"
   ]
  },
  {
   "cell_type": "markdown",
   "metadata": {},
   "source": [
    "## Init the Shutter controlled by a Newport AG_UC8 Tango communication"
   ]
  },
  {
   "cell_type": "code",
   "execution_count": 8,
   "metadata": {},
   "outputs": [
    {
     "name": "stdout",
     "output_type": "stream",
     "text": [
      "ON\n"
     ]
    }
   ],
   "source": [
    "#insert arduino serial port to initialize connection with AG_UC8 \n",
    "import tango\n",
    "import json\n",
    "N_AG_UC8 = tango.DeviceProxy(\"voxel/ag_uc8/1\")\n",
    "N_AG_UC8.set_timeout_millis(120000)\n",
    "print(N_AG_UC8.state())\n"
   ]
  },
  {
   "cell_type": "code",
   "execution_count": 9,
   "metadata": {},
   "outputs": [
    {
     "name": "stdout",
     "output_type": "stream",
     "text": [
      "ola\n"
     ]
    }
   ],
   "source": [
    "AG_UC8 = {\n",
    "            \"Name\"      : \"Controller_1\",\n",
    "            \"COM\"       : 6,   \n",
    "         }\n",
    "\n",
    "AG_UC8 = json.dumps(AG_UC8)\n",
    "print(N_AG_UC8.Connect(AG_UC8))"
   ]
  },
  {
   "cell_type": "markdown",
   "metadata": {},
   "source": [
    "## Init the SMC100 Tango communication"
   ]
  },
  {
   "cell_type": "code",
   "execution_count": 73,
   "metadata": {},
   "outputs": [
    {
     "name": "stdout",
     "output_type": "stream",
     "text": [
      "ON\n"
     ]
    }
   ],
   "source": [
    "#insert motors' serial port to initialize connection with motors\n",
    "SMC100 = tango.DeviceProxy(\"voxel/SMC100/1\")\n",
    "print(SMC100.state())\n",
    "SMC100.set_timeout_millis(50000)"
   ]
  },
  {
   "cell_type": "code",
   "execution_count": 75,
   "metadata": {},
   "outputs": [
    {
     "ename": "CommunicationFailed",
     "evalue": "DevFailed[\nDevError[\n    desc = TRANSIENT CORBA system exception: TRANSIENT_CallTimedout\n  origin = Connection::command_inout()\n  reason = API_CorbaException\nseverity = ERR]\n\nDevError[\n    desc = Timeout (50000 mS) exceeded on device voxel/smc100/1, command ConnectCamera\n  origin = Connection::command_inout()\n  reason = API_DeviceTimedOut\nseverity = ERR]\n]",
     "output_type": "error",
     "traceback": [
      "\u001b[1;31m---------------------------------------------------------------------------\u001b[0m",
      "\u001b[1;31mCommunicationFailed\u001b[0m                       Traceback (most recent call last)",
      "Cell \u001b[1;32mIn[75], line 7\u001b[0m\n\u001b[0;32m      1\u001b[0m userInfoController \u001b[38;5;241m=\u001b[39m  {\n\u001b[0;32m      2\u001b[0m                             \u001b[38;5;124m\"\u001b[39m\u001b[38;5;124mName\u001b[39m\u001b[38;5;124m\"\u001b[39m                  : \u001b[38;5;124m\"\u001b[39m\u001b[38;5;124mSC1\u001b[39m\u001b[38;5;124m\"\u001b[39m,\n\u001b[0;32m      3\u001b[0m                             \u001b[38;5;124m\"\u001b[39m\u001b[38;5;124mCOM\u001b[39m\u001b[38;5;124m\"\u001b[39m                   : \u001b[38;5;241m5\u001b[39m,\n\u001b[0;32m      4\u001b[0m                             \u001b[38;5;124m\"\u001b[39m\u001b[38;5;124mNumber_of_controllers\u001b[39m\u001b[38;5;124m\"\u001b[39m : \u001b[38;5;241m3\u001b[39m\n\u001b[0;32m      5\u001b[0m                         }\n\u001b[0;32m      6\u001b[0m userInfoController\u001b[38;5;241m=\u001b[39mjson\u001b[38;5;241m.\u001b[39mdumps(userInfoController)\n\u001b[1;32m----> 7\u001b[0m \u001b[43mSMC100\u001b[49m\u001b[38;5;241;43m.\u001b[39;49m\u001b[43mConnectCamera\u001b[49m\u001b[43m(\u001b[49m\u001b[43muserInfoController\u001b[49m\u001b[43m)\u001b[49m\n",
      "File \u001b[1;32mc:\\Users\\Voxel\\AppData\\Local\\Programs\\Python\\Python312\\Lib\\site-packages\\tango\\device_proxy.py:365\u001b[0m, in \u001b[0;36m__get_command_func.<locals>.f\u001b[1;34m(*args, **kwds)\u001b[0m\n\u001b[0;32m    364\u001b[0m \u001b[38;5;28;01mdef\u001b[39;00m \u001b[38;5;21mf\u001b[39m(\u001b[38;5;241m*\u001b[39margs, \u001b[38;5;241m*\u001b[39m\u001b[38;5;241m*\u001b[39mkwds):\n\u001b[1;32m--> 365\u001b[0m     \u001b[38;5;28;01mreturn\u001b[39;00m \u001b[43mdp\u001b[49m\u001b[38;5;241;43m.\u001b[39;49m\u001b[43mcommand_inout\u001b[49m\u001b[43m(\u001b[49m\u001b[43mname\u001b[49m\u001b[43m,\u001b[49m\u001b[43m \u001b[49m\u001b[38;5;241;43m*\u001b[39;49m\u001b[43margs\u001b[49m\u001b[43m,\u001b[49m\u001b[43m \u001b[49m\u001b[38;5;241;43m*\u001b[39;49m\u001b[38;5;241;43m*\u001b[39;49m\u001b[43mkwds\u001b[49m\u001b[43m)\u001b[49m\n",
      "File \u001b[1;32mc:\\Users\\Voxel\\AppData\\Local\\Programs\\Python\\Python312\\Lib\\site-packages\\tango\\green.py:234\u001b[0m, in \u001b[0;36mgreen.<locals>.decorator.<locals>.greener\u001b[1;34m(obj, *args, **kwargs)\u001b[0m\n\u001b[0;32m    232\u001b[0m green_mode \u001b[38;5;241m=\u001b[39m access(\u001b[38;5;124m\"\u001b[39m\u001b[38;5;124mgreen_mode\u001b[39m\u001b[38;5;124m\"\u001b[39m, \u001b[38;5;28;01mNone\u001b[39;00m)\n\u001b[0;32m    233\u001b[0m executor \u001b[38;5;241m=\u001b[39m get_object_executor(obj, green_mode)\n\u001b[1;32m--> 234\u001b[0m \u001b[38;5;28;01mreturn\u001b[39;00m \u001b[43mexecutor\u001b[49m\u001b[38;5;241;43m.\u001b[39;49m\u001b[43mrun\u001b[49m\u001b[43m(\u001b[49m\u001b[43mfn\u001b[49m\u001b[43m,\u001b[49m\u001b[43m \u001b[49m\u001b[43margs\u001b[49m\u001b[43m,\u001b[49m\u001b[43m \u001b[49m\u001b[43mkwargs\u001b[49m\u001b[43m,\u001b[49m\u001b[43m \u001b[49m\u001b[43mwait\u001b[49m\u001b[38;5;241;43m=\u001b[39;49m\u001b[43mwait\u001b[49m\u001b[43m,\u001b[49m\u001b[43m \u001b[49m\u001b[43mtimeout\u001b[49m\u001b[38;5;241;43m=\u001b[39;49m\u001b[43mtimeout\u001b[49m\u001b[43m)\u001b[49m\n",
      "File \u001b[1;32mc:\\Users\\Voxel\\AppData\\Local\\Programs\\Python\\Python312\\Lib\\site-packages\\tango\\green.py:124\u001b[0m, in \u001b[0;36mAbstractExecutor.run\u001b[1;34m(self, fn, args, kwargs, wait, timeout)\u001b[0m\n\u001b[0;32m    122\u001b[0m \u001b[38;5;66;03m# Synchronous (no delegation)\u001b[39;00m\n\u001b[0;32m    123\u001b[0m \u001b[38;5;28;01mif\u001b[39;00m \u001b[38;5;129;01mnot\u001b[39;00m \u001b[38;5;28mself\u001b[39m\u001b[38;5;241m.\u001b[39masynchronous \u001b[38;5;129;01mor\u001b[39;00m \u001b[38;5;129;01mnot\u001b[39;00m \u001b[38;5;28mself\u001b[39m\u001b[38;5;241m.\u001b[39min_executor_context():\n\u001b[1;32m--> 124\u001b[0m     \u001b[38;5;28;01mreturn\u001b[39;00m \u001b[43mfn\u001b[49m\u001b[43m(\u001b[49m\u001b[38;5;241;43m*\u001b[39;49m\u001b[43margs\u001b[49m\u001b[43m,\u001b[49m\u001b[43m \u001b[49m\u001b[38;5;241;43m*\u001b[39;49m\u001b[38;5;241;43m*\u001b[39;49m\u001b[43mkwargs\u001b[49m\u001b[43m)\u001b[49m\n\u001b[0;32m    125\u001b[0m \u001b[38;5;66;03m# Asynchronous delegation\u001b[39;00m\n\u001b[0;32m    126\u001b[0m accessor \u001b[38;5;241m=\u001b[39m \u001b[38;5;28mself\u001b[39m\u001b[38;5;241m.\u001b[39mdelegate(fn, \u001b[38;5;241m*\u001b[39margs, \u001b[38;5;241m*\u001b[39m\u001b[38;5;241m*\u001b[39mkwargs)\n",
      "File \u001b[1;32mc:\\Users\\Voxel\\AppData\\Local\\Programs\\Python\\Python312\\Lib\\site-packages\\tango\\connection.py:116\u001b[0m, in \u001b[0;36m__Connection__command_inout\u001b[1;34m(self, name, *args, **kwds)\u001b[0m\n\u001b[0;32m     84\u001b[0m \u001b[38;5;28;01mdef\u001b[39;00m \u001b[38;5;21m__Connection__command_inout\u001b[39m(\u001b[38;5;28mself\u001b[39m, name, \u001b[38;5;241m*\u001b[39margs, \u001b[38;5;241m*\u001b[39m\u001b[38;5;241m*\u001b[39mkwds):\n\u001b[0;32m     85\u001b[0m \u001b[38;5;250m    \u001b[39m\u001b[38;5;124;03m\"\"\"\u001b[39;00m\n\u001b[0;32m     86\u001b[0m \u001b[38;5;124;03m    command_inout( self, cmd_name, cmd_param=None, green_mode=None, wait=True, timeout=None) -> any\u001b[39;00m\n\u001b[0;32m     87\u001b[0m \n\u001b[1;32m   (...)\u001b[0m\n\u001b[0;32m    114\u001b[0m \u001b[38;5;124;03m        *timeout* parameter.\u001b[39;00m\n\u001b[0;32m    115\u001b[0m \u001b[38;5;124;03m    \"\"\"\u001b[39;00m\n\u001b[1;32m--> 116\u001b[0m     r \u001b[38;5;241m=\u001b[39m \u001b[43mConnection\u001b[49m\u001b[38;5;241;43m.\u001b[39;49m\u001b[43mcommand_inout_raw\u001b[49m\u001b[43m(\u001b[49m\u001b[38;5;28;43mself\u001b[39;49m\u001b[43m,\u001b[49m\u001b[43m \u001b[49m\u001b[43mname\u001b[49m\u001b[43m,\u001b[49m\u001b[43m \u001b[49m\u001b[38;5;241;43m*\u001b[39;49m\u001b[43margs\u001b[49m\u001b[43m,\u001b[49m\u001b[43m \u001b[49m\u001b[38;5;241;43m*\u001b[39;49m\u001b[38;5;241;43m*\u001b[39;49m\u001b[43mkwds\u001b[49m\u001b[43m)\u001b[49m\n\u001b[0;32m    117\u001b[0m     \u001b[38;5;28;01mif\u001b[39;00m \u001b[38;5;28misinstance\u001b[39m(r, DeviceData):\n\u001b[0;32m    118\u001b[0m         \u001b[38;5;28;01mtry\u001b[39;00m:\n",
      "File \u001b[1;32mc:\\Users\\Voxel\\AppData\\Local\\Programs\\Python\\Python312\\Lib\\site-packages\\tango\\connection.py:145\u001b[0m, in \u001b[0;36m__Connection__command_inout_raw\u001b[1;34m(self, cmd_name, cmd_param)\u001b[0m\n\u001b[0;32m    130\u001b[0m \u001b[38;5;250m\u001b[39m\u001b[38;5;124;03m\"\"\"\u001b[39;00m\n\u001b[0;32m    131\u001b[0m \u001b[38;5;124;03mcommand_inout_raw( self, cmd_name, cmd_param=None) -> DeviceData\u001b[39;00m\n\u001b[0;32m    132\u001b[0m \n\u001b[1;32m   (...)\u001b[0m\n\u001b[0;32m    142\u001b[0m \u001b[38;5;124;03m    Throws     : ConnectionFailed, CommunicationFailed, DeviceUnlocked, DevFailed from device\u001b[39;00m\n\u001b[0;32m    143\u001b[0m \u001b[38;5;124;03m\"\"\"\u001b[39;00m\n\u001b[0;32m    144\u001b[0m param \u001b[38;5;241m=\u001b[39m __get_command_inout_param(\u001b[38;5;28mself\u001b[39m, cmd_name, cmd_param)\n\u001b[1;32m--> 145\u001b[0m \u001b[38;5;28;01mreturn\u001b[39;00m \u001b[38;5;28;43mself\u001b[39;49m\u001b[38;5;241;43m.\u001b[39;49m\u001b[43m__command_inout\u001b[49m\u001b[43m(\u001b[49m\u001b[43mcmd_name\u001b[49m\u001b[43m,\u001b[49m\u001b[43m \u001b[49m\u001b[43mparam\u001b[49m\u001b[43m)\u001b[49m\n",
      "\u001b[1;31mCommunicationFailed\u001b[0m: DevFailed[\nDevError[\n    desc = TRANSIENT CORBA system exception: TRANSIENT_CallTimedout\n  origin = Connection::command_inout()\n  reason = API_CorbaException\nseverity = ERR]\n\nDevError[\n    desc = Timeout (50000 mS) exceeded on device voxel/smc100/1, command ConnectCamera\n  origin = Connection::command_inout()\n  reason = API_DeviceTimedOut\nseverity = ERR]\n]"
     ]
    }
   ],
   "source": [
    "userInfoController =  {\n",
    "                            \"Name\"                  : \"SC1\",\n",
    "                            \"COM\"                   : 5,\n",
    "                            \"Number_of_controllers\" : 3\n",
    "                        }\n",
    "userInfoController=json.dumps(userInfoController)\n",
    "SMC100.ConnectCamera(userInfoController)"
   ]
  },
  {
   "cell_type": "markdown",
   "metadata": {},
   "source": [
    "## Init the Thorlabs Camera Tango communication"
   ]
  },
  {
   "cell_type": "code",
   "execution_count": 38,
   "metadata": {},
   "outputs": [
    {
     "name": "stdout",
     "output_type": "stream",
     "text": [
      "RUNNING\n"
     ]
    }
   ],
   "source": [
    "ThorlabsCamera =  tango.DeviceProxy(\"camera/thorlabs/zelux44\")\n",
    "print(ThorlabsCamera.state())\n",
    "ThorlabsCamera.set_timeout_millis(9000)"
   ]
  },
  {
   "cell_type": "markdown",
   "metadata": {},
   "source": [
    "### Need to change parameters of the camera using this function"
   ]
  },
  {
   "cell_type": "code",
   "execution_count": null,
   "metadata": {},
   "outputs": [],
   "source": []
  },
  {
   "cell_type": "code",
   "execution_count": 37,
   "metadata": {},
   "outputs": [
    {
     "data": {
      "text/plain": [
       "''"
      ]
     },
     "execution_count": 37,
     "metadata": {},
     "output_type": "execute_result"
    }
   ],
   "source": [
    "ThorlabsCamera.StartAcqusition()"
   ]
  },
  {
   "cell_type": "code",
   "execution_count": 5,
   "metadata": {},
   "outputs": [],
   "source": [
    "ThorlabsCamera.StopAcqusition()"
   ]
  },
  {
   "cell_type": "code",
   "execution_count": 39,
   "metadata": {},
   "outputs": [
    {
     "data": {
      "text/plain": [
       "<matplotlib.colorbar.Colorbar at 0x204d4b62e10>"
      ]
     },
     "execution_count": 39,
     "metadata": {},
     "output_type": "execute_result"
    },
    {
     "data": {
      "image/png": "[encoded data removed]",
      "text/plain": [
       "<Figure size 640x480 with 2 Axes>"
      ]
     },
     "metadata": {},
     "output_type": "display_data"
    }
   ],
   "source": [
    "# ThorlabsCamera.Snap()\n",
    "plt.imshow(ThorlabsCamera.Image,cmap=\"grey\")\n",
    "plt.colorbar()"
   ]
  },
  {
   "cell_type": "markdown",
   "metadata": {},
   "source": [
    "# Standa Motor"
   ]
  },
  {
   "cell_type": "code",
   "execution_count": 3,
   "metadata": {},
   "outputs": [
    {
     "name": "stdout",
     "output_type": "stream",
     "text": [
      "ON\n"
     ]
    }
   ],
   "source": [
    "Standa = tango.DeviceProxy(\"voxel/StandaM/1\")\n",
    "print(Standa.state())\n",
    "Standa.set_timeout_millis(120000)"
   ]
  },
  {
   "cell_type": "code",
   "execution_count": 4,
   "metadata": {},
   "outputs": [
    {
     "data": {
      "text/plain": [
       "['Init', 'State', 'Status', 'connection', 'get_list_diveces', 'get_position', 'move_calibrat', 'move_to', 'relative_shift', 'set_device', 'set_device_as_virtual', 'set_user_unit', 'set_zero']"
      ]
     },
     "execution_count": 4,
     "metadata": {},
     "output_type": "execute_result"
    }
   ],
   "source": [
    "Standa.get_command_list()"
   ]
  },
  {
   "cell_type": "code",
   "execution_count": 5,
   "metadata": {},
   "outputs": [
    {
     "data": {
      "text/plain": [
       "\"Dice found: {'uri': 'xi-com:\\\\\\\\\\\\\\\\.\\\\\\\\COM8', 'device_serial': 0, 'Manufacturer': '', 'ManufacturerId': '', 'ProductDescription': '', 'Major': 0, 'Minor': 0, 'Release': 0, 'ControllerName': '', 'CtrlFlags': 0, 'PositionerName': ''}\\t{'uri': 'xi-com:\\\\\\\\\\\\\\\\.\\\\\\\\COM3', 'device_serial': 0, 'Manufacturer': '', 'ManufacturerId': '', 'ProductDescription': '', 'Major': 0, 'Minor': 0, 'Release': 0, 'ControllerName': '', 'CtrlFlags': 0, 'PositionerName': ''}\\t\""
      ]
     },
     "execution_count": 5,
     "metadata": {},
     "output_type": "execute_result"
    }
   ],
   "source": [
    "Standa.get_list_diveces()"
   ]
  },
  {
   "cell_type": "code",
   "execution_count": 6,
   "metadata": {},
   "outputs": [
    {
     "data": {
      "text/plain": [
       "'it was selected the device 8'"
      ]
     },
     "execution_count": 6,
     "metadata": {},
     "output_type": "execute_result"
    }
   ],
   "source": [
    "Standa.set_device('8')"
   ]
  },
  {
   "cell_type": "code",
   "execution_count": 7,
   "metadata": {},
   "outputs": [
    {
     "data": {
      "text/plain": [
       "'Connection established'"
      ]
     },
     "execution_count": 7,
     "metadata": {},
     "output_type": "execute_result"
    }
   ],
   "source": [
    "Standa.connection(\"open\")"
   ]
  },
  {
   "cell_type": "markdown",
   "metadata": {},
   "source": [
    "### Function that recives the Coord and send it to te Controller via Tango"
   ]
  },
  {
   "cell_type": "code",
   "execution_count": 76,
   "metadata": {},
   "outputs": [],
   "source": [
    "def MoveToPosition(coords):\n",
    "    userInfoP = {\n",
    "                    \"Name\" : \"SC1\",\n",
    "                    \"Axis\" : X\n",
    "                }\n",
    "    userInfoP_String = json.dumps(userInfoP)\n",
    "    current_position_x = SMC100.GetPosition(userInfoP_String)\n",
    "    print(\"Position X:\"+str(current_position_x))\n",
    "    userInfoP[\"Axis\"] = Y\n",
    "    userInfoP_String = json.dumps(userInfoP)\n",
    "    current_position_y = SMC100.GetPosition(userInfoP_String)\n",
    "    print(\"Position Y:\"+str(current_position_y))\n",
    "    userInfoP[\"Axis\"] = Z\n",
    "    userInfoP_String = json.dumps(userInfoP)\n",
    "    current_position_z = SMC100.GetPosition(userInfoP_String)\n",
    "    print(\"Position Z:\"+str(current_position_z))\n",
    "\n",
    "    # print(current_position_x)\n",
    "    # print(current_position_y)\n",
    "\n",
    "    userInfoMA =    {\n",
    "                        \"Name\"              : \"SC1\",\n",
    "                        \"Axis\"              : Z,\n",
    "                        \"Position\"          : 5,\n",
    "                        \"Wait_to_finish\"    : False\n",
    "                    }\n",
    "    print(len(coords))\n",
    "    if len(coords) == 3:\n",
    "        if coords[0] != current_position_x:\n",
    "            userInfoMA[\"Axis\"] = X\n",
    "            userInfoMA[\"Position\"] = coords[0]\n",
    "            userInfoMA_string = json.dumps(userInfoMA)\n",
    "            SMC100.MoveAbsolute_mm(userInfoMA_string)\n",
    "\n",
    "        if coords[1] != current_position_y:\n",
    "            \n",
    "            userInfoMA[\"Axis\"] = Y\n",
    "            userInfoMA[\"Position\"] = coords[1]\n",
    "            userInfoMA_string = json.dumps(userInfoMA)\n",
    "            SMC100.MoveAbsolute_mm(userInfoMA_string)\n",
    "        \n",
    "        if coords[2] != current_position_z:\n",
    "            \n",
    "            userInfoMA[\"Axis\"] = Z\n",
    "            userInfoMA[\"Position\"] = coords[2]\n",
    "            userInfoMA_string = json.dumps(userInfoMA)\n",
    "            SMC100.MoveAbsolute_mm(userInfoMA_string)\n",
    "\n",
    "        # elif coords[0]!=current_position_x and coords[1]!=current_position_y:\n",
    "        #     userInfoMA[\"Wait_to_finish\" ] = False\n",
    "        #     userInfoMA[\"Axis\"] = Y\n",
    "        #     userInfoMA[\"Position\"] = coords[1]\n",
    "        #     userInfoMA_string = json.dumps(userInfoMA)\n",
    "        #     SMC100.MoveAbsolute_mm(userInfoMA_string)\n",
    "        #     userInfoMA[\"Axis\"] = X\n",
    "        #     userInfoMA[\"Position\"] = coords[0]\n",
    "        #     userInfoMA_string = json.dumps(userInfoMA)\n",
    "        #     SMC100.MoveAbsolute_mm(userInfoMA_string)\n",
    "\n",
    "    else:\n",
    "        print(\"Error: Wrong input. Please insert a position to which you want to move as x, y, z\",\n",
    "            \"(e.g. the input of 1.2, 3.3 will move the motors to a position where x=1.2 mm and y=3.3 mm)\")"
   ]
  },
  {
   "cell_type": "markdown",
   "metadata": {},
   "source": [
    "Simple test of the movement of the motors "
   ]
  },
  {
   "cell_type": "code",
   "execution_count": 77,
   "metadata": {},
   "outputs": [
    {
     "name": "stdout",
     "output_type": "stream",
     "text": [
      "Position X:-0.0\n",
      "Position Y:-0.0\n",
      "Position Z:-0.0\n",
      "3\n"
     ]
    }
   ],
   "source": [
    "#run to make a move to a desired position\n",
    "\n",
    "a = input(\"insert a desired position [mm] as a pair x, y, z: \") \n",
    "coords = list(float(x) for x in a.split(\",\"))\n",
    "MoveToPosition(coords)\n"
   ]
  },
  {
   "cell_type": "markdown",
   "metadata": {},
   "source": [
    "# The experiment code "
   ]
  },
  {
   "cell_type": "code",
   "execution_count": null,
   "metadata": {},
   "outputs": [],
   "source": [
    "polaroide_info = {\n",
    "            \"Name\"      : \"Controller_1\",\n",
    "            \"Channel\"   : 1,\n",
    "            \"Axis\"      : 1,\n",
    "            \"Position\"  : 0\n",
    "        }\n",
    "tilt_info = {\n",
    "            \"Name\"      : \"Controller_1\",\n",
    "            \"Channel\"   : 2,\n",
    "            \"Axis\"      : 2,\n",
    "            \"Position\"  :  0\n",
    "        }\n",
    "\n",
    "Device_to_Open =    {\n",
    "                        \"Name\"      : \"AS1\"\n",
    "                    }\n",
    "Device_to_Open_string = json.dumps(Device_to_Open)\n",
    "\n",
    "def function_experiment(polaroide,open_Iris,tilt_1,tilt_2,move_X,move_Y,area=[[100,800],[100,800]]):\n",
    "\n",
    "    # Move the Polaroide piezo motor\n",
    "    polaroide_info[\"Position\"]=polaroide\n",
    "    polaroide_string = json.dumps(polaroide_info)\n",
    "    N_AG_UC8.MoveRel(polaroide_string)\n",
    "\n",
    "    \n",
    "    Standa.move_to(open_Iris)\n",
    "\n",
    "    \n",
    "    tilt_info[\"Axis\"] = 1\n",
    "    tilt_info[\"Position\"] = tilt_1\n",
    "    til_sting = json.dumps(tilt_info)\n",
    "    N_AG_UC8.MoveRel(til_sting)\n",
    "\n",
    "    \n",
    "    tilt_info[\"Axis\"] = 2\n",
    "    tilt_info[\"Position\"] = tilt_2\n",
    "    til_sting = json.dumps(tilt_info)\n",
    "    N_AG_UC8.MoveRel(til_sting)\n",
    "    \n",
    "\n",
    "    MoveToPosition([move_X,move_Y,0])\n",
    "\n",
    "    Arduino_Shutter.OpenShutter(Device_to_Open_string)\n",
    "    ThorlabsCamera.Snap()\n",
    "    Arduino_Shutter.CloseShutter(Device_to_Open_string)\n",
    "    Image_to_evalute = ThorlabsCamera.Image\n",
    "    plt.imshow(Image_to_evalute,cmap=\"grey\")\n",
    "    plt.colorbar()\n",
    "    plt.show()\n",
    "\n",
    "    area_of_study = Image_to_evalute[area[0][0]:area[0][1],area[1][0]:area[1][1]]\n",
    "    val = -1* np.mean(area_of_study)\n",
    "\n",
    "    return val, Image_to_evalute, area_of_study\n",
    "    \n"
   ]
  }
 ],
 "metadata": {
  "kernelspec": {
   "display_name": "Python 3",
   "language": "python",
   "name": "python3"
  },
  "language_info": {
   "codemirror_mode": {
    "name": "ipython",
    "version": 3
   },
   "file_extension": ".py",
   "mimetype": "text/x-python",
   "name": "python",
   "nbconvert_exporter": "python",
   "pygments_lexer": "ipython3",
   "version": "3.11.7"
  }
 },
 "nbformat": 4,
 "nbformat_minor": 2
}
