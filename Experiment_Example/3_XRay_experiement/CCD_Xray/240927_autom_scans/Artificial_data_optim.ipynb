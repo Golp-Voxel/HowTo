{
 "cells": [
  {
   "cell_type": "markdown",
   "metadata": {},
   "source": [
    "# Initialization"
   ]
  },
  {
   "cell_type": "markdown",
   "metadata": {},
   "source": [
    "all done with global python env 3.12.3 \\\n",
    "see requirements.txt - 27-09-2024 \\\n",
    "\n",
    "needs pyController module to control XRay Target"
   ]
  },
  {
   "cell_type": "markdown",
   "metadata": {},
   "source": [
    "# Manual Scan"
   ]
  },
  {
   "cell_type": "code",
   "execution_count": 6,
   "metadata": {},
   "outputs": [
    {
     "ename": "NameError",
     "evalue": "name 'np' is not defined",
     "output_type": "error",
     "traceback": [
      "\u001b[1;31m---------------------------------------------------------------------------\u001b[0m",
      "\u001b[1;31mNameError\u001b[0m                                 Traceback (most recent call last)",
      "Cell \u001b[1;32mIn[6], line 23\u001b[0m\n\u001b[0;32m     20\u001b[0m \u001b[38;5;28;01mdef\u001b[39;00m \u001b[38;5;21mscan_step\u001b[39m(value):\n\u001b[0;32m     21\u001b[0m     SMC_move_y(value)\n\u001b[1;32m---> 23\u001b[0m scan_list \u001b[38;5;241m=\u001b[39m \u001b[43mnp\u001b[49m\u001b[38;5;241m.\u001b[39mlinspace(\u001b[38;5;241m11.5\u001b[39m, \u001b[38;5;241m13.67\u001b[39m, \u001b[38;5;241m14\u001b[39m, endpoint\u001b[38;5;241m=\u001b[39m\u001b[38;5;28;01mFalse\u001b[39;00m)\n\u001b[0;32m     24\u001b[0m \u001b[38;5;28mprint\u001b[39m(scan_list)\n",
      "\u001b[1;31mNameError\u001b[0m: name 'np' is not defined"
     ]
    }
   ],
   "source": [
    "target_duration = 1.5 # in seconds\n",
    "exposure = 1\n",
    "steps = -1400 * target_duration # move target for little longer than the exposure\n",
    "accell = 30 # time to accelerate in seconds (ca. 27s for defaul speed - see labbook)\n",
    "\n",
    "\"\"\"\n",
    "def acquire_data():\n",
    "    MiniPIX.ExposureTime = 5\n",
    "    try:\n",
    "        return MiniPIX.Image\n",
    "    except:\n",
    "        print(\"MiniPix acquire failed\")\n",
    "        return np.zeros((256,256))\n",
    "\"\"\"\n",
    "\n",
    "def acquire_data():\n",
    "    test_img1_reateyesCCD = json.loads(greateyesCCD.get_foto_JSON()) # takes ca 5 sec\n",
    "    return np.array(test_img1_reateyesCCD[\"Image\"]) - CCD_BG\n",
    "\n",
    "def scan_step(value):\n",
    "    SMC_move_y(value)\n",
    "\n",
    "scan_list = np.linspace(11.5, 13.67, 14, endpoint=False)\n",
    "print(scan_list)\n"
   ]
  },
  {
   "cell_type": "code",
   "execution_count": null,
   "metadata": {},
   "outputs": [],
   "source": [
    "def run_scan(debug=False):\n",
    "    data = []\n",
    "    data += [acquire_data()]\n",
    "    if debug: print('background done')\n",
    "    \n",
    "    # Start Target Spinning\n",
    "    timing_factor = 13 # experimentally set to have the target spin long enough\n",
    "    spin_steps = timing_factor *((len(scan_list)+1)*(steps) + 1000*accell)\n",
    "    spin_thread = threading.Thread(target=spin_aduino.set_value, args=('M', 'X', spin_steps, False,))\n",
    "    spin_thread.start()\n",
    "    time.sleep(accell)\n",
    "    if debug: print(\"accell done\")\n",
    "\n",
    "    with tqdm(total=len(scan_list)+1, position=0, bar_format=\"{l_bar}{bar} [time left: {remaining}, time spent: {elapsed}]\") as pbar:\n",
    "        for i in range(len(scan_list)+1):\n",
    "            # Start Target Translation\n",
    "            stage_thread = threading.Thread(target=stage_aduino.set_value, args=('M', 'X', steps, False,))\n",
    "            stage_thread.start()\n",
    "            time.sleep(.2)\n",
    "\n",
    "            shutter_thread = threading.Thread(target=open_shutter_for_seconds, args=(exposure,))\n",
    "\n",
    "            # Open Laser Shutter\n",
    "            shutter_thread.start()\n",
    "            # Arduino_Shutter.OpenShutter(Device_to_Open_string)\n",
    "            if debug: print('Shutter open')\n",
    "\n",
    "            # Aquire Data\n",
    "            data += [acquire_data()]\n",
    "            if debug: print('acquire done')\n",
    "\n",
    "            stage_thread.join() # waits till translation is done\n",
    "            if debug: print('stage done')\n",
    "\n",
    "            # Close Laser Shutter\n",
    "            # Arduino_Shutter.CloseShutter(Device_to_Open_string)\n",
    "            # if debug: print('Shutter close')\n",
    "\n",
    "            # Scan Parameter\n",
    "            if i < len(scan_list):\n",
    "                scan_step(scan_list[i])\n",
    "                if debug: print('step done')\n",
    "            \n",
    "            pbar.update(1)\n",
    "\n",
    "    # Wait Till Spin Stops\n",
    "    spin_thread.join()\n",
    "    if debug: print(\"spin done\")\n",
    "\n",
    "    return np.array(data)"
   ]
  },
  {
   "cell_type": "code",
   "execution_count": null,
   "metadata": {},
   "outputs": [
    {
     "name": "stdout",
     "output_type": "stream",
     "text": [
      "background done\n"
     ]
    },
    {
     "ename": "NameError",
     "evalue": "name 'spin_aduino' is not defined",
     "output_type": "error",
     "traceback": [
      "\u001b[1;31m---------------------------------------------------------------------------\u001b[0m\n",
      "\u001b[1;31mNameError\u001b[0m                                 Traceback (most recent call last)\n",
      "Cell \u001b[1;32mIn[41], line 1\u001b[0m\n",
      "\u001b[1;32m----> 1\u001b[0m data_scan \u001b[38;5;241m=\u001b[39m \u001b[43mrun_scan\u001b[49m\u001b[43m(\u001b[49m\u001b[43mdebug\u001b[49m\u001b[38;5;241;43m=\u001b[39;49m\u001b[38;5;28;43;01mTrue\u001b[39;49;00m\u001b[43m)\u001b[49m\n",
      "\u001b[0;32m      2\u001b[0m \u001b[38;5;28mprint\u001b[39m(np\u001b[38;5;241m.\u001b[39mshape(data_scan))\n",
      "\u001b[0;32m      3\u001b[0m \u001b[38;5;28mprint\u001b[39m(np\u001b[38;5;241m.\u001b[39mamax(data_scan))\n",
      "\n",
      "Cell \u001b[1;32mIn[40], line 9\u001b[0m, in \u001b[0;36mrun_scan\u001b[1;34m(debug)\u001b[0m\n",
      "\u001b[0;32m      7\u001b[0m timing_factor \u001b[38;5;241m=\u001b[39m \u001b[38;5;241m13\u001b[39m \u001b[38;5;66;03m# experimentally set to have the target spin long enough\u001b[39;00m\n",
      "\u001b[0;32m      8\u001b[0m spin_steps \u001b[38;5;241m=\u001b[39m timing_factor \u001b[38;5;241m*\u001b[39m((\u001b[38;5;28mlen\u001b[39m(scan_list)\u001b[38;5;241m+\u001b[39m\u001b[38;5;241m1\u001b[39m)\u001b[38;5;241m*\u001b[39m(steps) \u001b[38;5;241m+\u001b[39m \u001b[38;5;241m1000\u001b[39m\u001b[38;5;241m*\u001b[39maccell)\n",
      "\u001b[1;32m----> 9\u001b[0m spin_thread \u001b[38;5;241m=\u001b[39m threading\u001b[38;5;241m.\u001b[39mThread(target\u001b[38;5;241m=\u001b[39m\u001b[43mspin_aduino\u001b[49m\u001b[38;5;241m.\u001b[39mset_value, args\u001b[38;5;241m=\u001b[39m(\u001b[38;5;124m'\u001b[39m\u001b[38;5;124mM\u001b[39m\u001b[38;5;124m'\u001b[39m, \u001b[38;5;124m'\u001b[39m\u001b[38;5;124mX\u001b[39m\u001b[38;5;124m'\u001b[39m, spin_steps, \u001b[38;5;28;01mFalse\u001b[39;00m,))\n",
      "\u001b[0;32m     10\u001b[0m spin_thread\u001b[38;5;241m.\u001b[39mstart()\n",
      "\u001b[0;32m     11\u001b[0m time\u001b[38;5;241m.\u001b[39msleep(accell)\n",
      "\n",
      "\u001b[1;31mNameError\u001b[0m: name 'spin_aduino' is not defined"
     ]
    }
   ],
   "source": [
    "data_scan = run_scan(debug=True)\n",
    "print(np.shape(data_scan))\n",
    "print(np.amax(data_scan))"
   ]
  },
  {
   "cell_type": "markdown",
   "metadata": {},
   "source": [
    "# Plot Scan"
   ]
  },
  {
   "cell_type": "markdown",
   "metadata": {},
   "source": [
    "### MiniPix"
   ]
  },
  {
   "cell_type": "code",
   "execution_count": null,
   "metadata": {},
   "outputs": [],
   "source": [
    "fig = plt.figure(figsize=(7,5))\n",
    "\n",
    "plt.subplots_adjust(wspace = 0.05, hspace = 0.25)\n",
    "\n",
    "grid_size = math.ceil(np.sqrt(len(data_scan)))\n",
    "gs00 = GridSpec(nrows = grid_size, ncols = grid_size)\n",
    "\n",
    "nrows, ncols = gs00.get_geometry()\n",
    "axes = []\n",
    "for i in range(nrows):\n",
    "    for j in range(ncols):\n",
    "        axes += [fig.add_subplot(gs00[i,j])]\n",
    "        if j > 0:\n",
    "            axes[-1].get_yaxis().set_visible(False)\n",
    "        if i < nrows-1:\n",
    "            axes[-1].get_xaxis().set_visible(False)\n",
    "\n",
    "vmax=1 #np.amax(data_scan)\n",
    "\n",
    "for i in range(len(data_scan)):\n",
    "    ax = axes[i]\n",
    "    img = data_scan[i]\n",
    "    cbar = ax.imshow(img, cmap='Greys', aspect=1, vmin=0, vmax=vmax)\n",
    "    fig.colorbar(cbar, ax=ax)\n",
    "\n",
    "    counts = img.sum()\n",
    "    ax.text(.3, .8, r'cnts: {:d}'.format(round(counts)), color='white', transform=ax.transAxes)\n",
    "    \n",
    "    ax.set_title([[\"start\"] + scan_list][i])"
   ]
  },
  {
   "cell_type": "markdown",
   "metadata": {},
   "source": [
    "### CCD"
   ]
  },
  {
   "cell_type": "code",
   "execution_count": 4,
   "metadata": {},
   "outputs": [
    {
     "ename": "NameError",
     "evalue": "name 'plt' is not defined",
     "output_type": "error",
     "traceback": [
      "\u001b[1;31m---------------------------------------------------------------------------\u001b[0m",
      "\u001b[1;31mNameError\u001b[0m                                 Traceback (most recent call last)",
      "Cell \u001b[1;32mIn[4], line 1\u001b[0m\n\u001b[1;32m----> 1\u001b[0m fig \u001b[38;5;241m=\u001b[39m \u001b[43mplt\u001b[49m\u001b[38;5;241m.\u001b[39mfigure(figsize\u001b[38;5;241m=\u001b[39m(\u001b[38;5;241m6\u001b[39m,\u001b[38;5;241m4\u001b[39m))\n\u001b[0;32m      3\u001b[0m plt\u001b[38;5;241m.\u001b[39msubplots_adjust(wspace \u001b[38;5;241m=\u001b[39m \u001b[38;5;241m0.05\u001b[39m, hspace \u001b[38;5;241m=\u001b[39m \u001b[38;5;241m0.25\u001b[39m)\n\u001b[0;32m      5\u001b[0m grid_size \u001b[38;5;241m=\u001b[39m math\u001b[38;5;241m.\u001b[39mceil(np\u001b[38;5;241m.\u001b[39msqrt(\u001b[38;5;28mlen\u001b[39m(data_scan)))\n",
      "\u001b[1;31mNameError\u001b[0m: name 'plt' is not defined"
     ]
    }
   ],
   "source": [
    "fig = plt.figure(figsize=(6,4))\n",
    "\n",
    "plt.subplots_adjust(wspace = 0.05, hspace = 0.25)\n",
    "\n",
    "grid_size = math.ceil(np.sqrt(len(data_scan)))\n",
    "gs00 = GridSpec(nrows = grid_size, ncols = grid_size)\n",
    "\n",
    "nrows, ncols = gs00.get_geometry()\n",
    "axes = []\n",
    "for i in range(nrows):\n",
    "    for j in range(ncols):\n",
    "        axes += [fig.add_subplot(gs00[i,j])]\n",
    "        if j > 0:\n",
    "            axes[-1].get_yaxis().set_visible(False)\n",
    "        if i < nrows-1:\n",
    "            axes[-1].get_xaxis().set_visible(False)\n",
    "        \n",
    "        axes[-1].set_xlim(-1000, 12000)\n",
    "\n",
    "name_scan_list = [str(pos) for pos in scan_list]\n",
    "for i in range(len(data_scan)):\n",
    "    ax = axes[i]\n",
    "    img = data_scan[i,:2048//2,:]\n",
    "    arr = img.flatten()\n",
    "    \n",
    "    ax.hist(arr, bins=np.arange(np.amin(img), np.amax(img), dtype=int), histtype='stepfilled')\n",
    "    \n",
    "    #cbar = ax.imshow(img, cmap='Greys', aspect=1)\n",
    "    #fig.colorbar(cbar, ax=ax)\n",
    "    \n",
    "    name = ([\"BG\",\"Inital\"] + name_scan_list)[i]\n",
    "    ax.text(0, 1.15, r'scan: ' + name, transform=ax.transAxes)\n",
    "    counts = ((0 > arr)).sum() - ((0 < arr)).sum()\n",
    "    ax.text(.4, 1.05, r'sig. cnts: {:.2e}'.format(counts), transform=ax.transAxes)\n",
    "    counts = ((1800 < arr) & (arr < 2500)).sum()\n",
    "    ax.text(.4, 1.15, r'k$_\\alpha$ cnts: {:.2e}'.format(counts), transform=ax.transAxes)\n",
    "    \n",
    "    ax.set_yscale(\"log\")\n",
    "\n",
    "fig.savefig(str(time.time()) + \".pdf\")"
   ]
  },
  {
   "cell_type": "code",
   "execution_count": null,
   "metadata": {},
   "outputs": [
    {
     "data": {
      "image/png": "[encoded data removed]",
      "text/plain": [
       "<Figure size 400x300 with 2 Axes>"
      ]
     },
     "metadata": {},
     "output_type": "display_data"
    }
   ],
   "source": [
    "if len(scan_list) > 0:\n",
    "    fig = plt.figure(figsize=(4,3))\n",
    "\n",
    "    plt.subplots_adjust(wspace = 0.05, hspace = 0.25)\n",
    "    gs00 = GridSpec(nrows = 1, ncols = 1)\n",
    "    ax = fig.add_subplot(gs00[0,0])\n",
    "    ax02 = ax.twinx()\n",
    "\n",
    "    arr_sig_count = np.zeros(len(data_scan))\n",
    "    arr_ka_count = np.zeros(len(data_scan))\n",
    "    for i in range(len(data_scan)):\n",
    "        img = data_scan[i,:2048//2,:]\n",
    "        arr = img.flatten()\n",
    "\n",
    "        arr_sig_count[i] = ((0 > arr)).sum() - ((0 < arr)).sum()\n",
    "        arr_ka_count[i] = ((1800 < arr) & (arr < 2500)).sum()\n",
    "\n",
    "    ax.plot(scan_list, arr_sig_count[2:])\n",
    "    ax02.plot(scan_list, arr_ka_count[2:], color=\"red\")\n",
    "\n",
    "    ax.set_xlabel(\"position\")\n",
    "    ax.set_ylabel(\"sig counts\")\n",
    "    ax02.set_ylabel(\"ka counts\")\n",
    "\n",
    "    fig.savefig(str(time.time()) + \".pdf\")"
   ]
  },
  {
   "cell_type": "code",
   "execution_count": 3,
   "metadata": {},
   "outputs": [
    {
     "ename": "NameError",
     "evalue": "name 'plt' is not defined",
     "output_type": "error",
     "traceback": [
      "\u001b[1;31m---------------------------------------------------------------------------\u001b[0m",
      "\u001b[1;31mNameError\u001b[0m                                 Traceback (most recent call last)",
      "Cell \u001b[1;32mIn[3], line 1\u001b[0m\n\u001b[1;32m----> 1\u001b[0m fig \u001b[38;5;241m=\u001b[39m \u001b[43mplt\u001b[49m\u001b[38;5;241m.\u001b[39mfigure(figsize\u001b[38;5;241m=\u001b[39m(\u001b[38;5;241m14\u001b[39m,\u001b[38;5;241m10\u001b[39m))\n\u001b[0;32m      3\u001b[0m plt\u001b[38;5;241m.\u001b[39msubplots_adjust(wspace \u001b[38;5;241m=\u001b[39m \u001b[38;5;241m0.05\u001b[39m, hspace \u001b[38;5;241m=\u001b[39m \u001b[38;5;241m0.25\u001b[39m)\n\u001b[0;32m      5\u001b[0m grid_size \u001b[38;5;241m=\u001b[39m math\u001b[38;5;241m.\u001b[39mceil(np\u001b[38;5;241m.\u001b[39msqrt(\u001b[38;5;28mlen\u001b[39m(data_scan)))\n",
      "\u001b[1;31mNameError\u001b[0m: name 'plt' is not defined"
     ]
    }
   ],
   "source": [
    "fig = plt.figure(figsize=(14,10))\n",
    "\n",
    "plt.subplots_adjust(wspace = 0.05, hspace = 0.25)\n",
    "\n",
    "grid_size = math.ceil(np.sqrt(len(data_scan)))\n",
    "gs00 = GridSpec(nrows = grid_size, ncols = grid_size)\n",
    "\n",
    "nrows, ncols = gs00.get_geometry()\n",
    "axes = []\n",
    "for i in range(nrows):\n",
    "    for j in range(ncols):\n",
    "        axes += [fig.add_subplot(gs00[i,j])]\n",
    "        if j > 0:\n",
    "            axes[-1].get_yaxis().set_visible(False)\n",
    "        if i < nrows-1:\n",
    "            axes[-1].get_xaxis().set_visible(False)\n",
    "\n",
    "for i in range(len(data_scan)):\n",
    "    ax = axes[i]\n",
    "    img = data_scan[i,:2048//2,:]\n",
    "\n",
    "    cbar = ax.imshow(img, cmap='Greys', aspect=1, vmin=0, vmax=2000)\n",
    "    fig.colorbar(cbar, ax=ax)"
   ]
  },
  {
   "cell_type": "markdown",
   "metadata": {},
   "source": [
    "# Optimization"
   ]
  },
  {
   "cell_type": "code",
   "execution_count": 5,
   "metadata": {},
   "outputs": [],
   "source": [
    "from skopt import gp_minimize \n",
    "from skopt.space import Real "
   ]
  },
  {
   "cell_type": "code",
   "execution_count": 6,
   "metadata": {},
   "outputs": [],
   "source": [
    "# loss function\n",
    "def gain_func(img):\n",
    "    arr = img.flatten()\n",
    "    return ((1800 < arr) & (arr < 2500)).sum()"
   ]
  },
  {
   "cell_type": "code",
   "execution_count": 7,
   "metadata": {},
   "outputs": [],
   "source": [
    "def acquire_optim_data():\n",
    "    test_img1_reateyesCCD = json.loads(greateyesCCD.get_foto_JSON()) # takes ca 5 sec, 10ms exposure\n",
    "    return np.array(test_img1_reateyesCCD[\"Image\"]) - CCD_BG\n",
    "\n",
    "def single_step(steps, exposure=1.5):\n",
    "    \n",
    "    # Start Target Spin\n",
    "    spin_aduino.set_value(\"T\",\"X\",60,False)\n",
    "    spin_thread = threading.Thread(target=spin_aduino.set_value, args=('M', 'X', 8*1000*4*60, False,))\n",
    "    spin_thread.start()\n",
    "    time.sleep(.1)\n",
    "\n",
    "    # Start Target Translation\n",
    "    stage_aduino.set_value(\"T\",\"X\",500,False)\n",
    "    stage_thread = threading.Thread(target=stage_aduino.set_value, args=('M', 'X', steps, False,))\n",
    "    stage_thread.start()\n",
    "    time.sleep(.05)\n",
    "    \n",
    "    # Open Laser Shutter\n",
    "    shutter_thread = threading.Thread(target=open_shutter_for_seconds, args=(exposure,))\n",
    "    shutter_thread.start()\n",
    "\n",
    "    # Aquire Data\n",
    "    img = acquire_optim_data()\n",
    "\n",
    "    shutter_thread.join()\n",
    "    stage_thread.join() # waits till translation is done\n",
    "    spin_thread.join() # waits till spin is done\n",
    "\n",
    "    return gain_func(img), img"
   ]
  },
  {
   "cell_type": "code",
   "execution_count": 8,
   "metadata": {},
   "outputs": [
    {
     "ename": "NameError",
     "evalue": "name 'spin_aduino' is not defined",
     "output_type": "error",
     "traceback": [
      "\u001b[1;31m---------------------------------------------------------------------------\u001b[0m",
      "\u001b[1;31mNameError\u001b[0m                                 Traceback (most recent call last)",
      "Cell \u001b[1;32mIn[8], line 1\u001b[0m\n\u001b[1;32m----> 1\u001b[0m ka, img \u001b[38;5;241m=\u001b[39m \u001b[43msingle_step\u001b[49m\u001b[43m(\u001b[49m\u001b[38;5;241;43m1000\u001b[39;49m\u001b[38;5;241;43m*\u001b[39;49m\u001b[38;5;241;43m.5\u001b[39;49m\u001b[43m)\u001b[49m\n",
      "Cell \u001b[1;32mIn[7], line 8\u001b[0m, in \u001b[0;36msingle_step\u001b[1;34m(steps, exposure)\u001b[0m\n\u001b[0;32m      5\u001b[0m \u001b[38;5;28;01mdef\u001b[39;00m \u001b[38;5;21msingle_step\u001b[39m(steps, exposure\u001b[38;5;241m=\u001b[39m\u001b[38;5;241m1.5\u001b[39m):\n\u001b[0;32m      6\u001b[0m     \n\u001b[0;32m      7\u001b[0m     \u001b[38;5;66;03m# Start Target Spin\u001b[39;00m\n\u001b[1;32m----> 8\u001b[0m     \u001b[43mspin_aduino\u001b[49m\u001b[38;5;241m.\u001b[39mset_value(\u001b[38;5;124m\"\u001b[39m\u001b[38;5;124mT\u001b[39m\u001b[38;5;124m\"\u001b[39m,\u001b[38;5;124m\"\u001b[39m\u001b[38;5;124mX\u001b[39m\u001b[38;5;124m\"\u001b[39m,\u001b[38;5;241m60\u001b[39m,\u001b[38;5;28;01mFalse\u001b[39;00m)\n\u001b[0;32m      9\u001b[0m     spin_thread \u001b[38;5;241m=\u001b[39m threading\u001b[38;5;241m.\u001b[39mThread(target\u001b[38;5;241m=\u001b[39mspin_aduino\u001b[38;5;241m.\u001b[39mset_value, args\u001b[38;5;241m=\u001b[39m(\u001b[38;5;124m'\u001b[39m\u001b[38;5;124mM\u001b[39m\u001b[38;5;124m'\u001b[39m, \u001b[38;5;124m'\u001b[39m\u001b[38;5;124mX\u001b[39m\u001b[38;5;124m'\u001b[39m, \u001b[38;5;241m8\u001b[39m\u001b[38;5;241m*\u001b[39m\u001b[38;5;241m1000\u001b[39m\u001b[38;5;241m*\u001b[39m\u001b[38;5;241m4\u001b[39m\u001b[38;5;241m*\u001b[39m\u001b[38;5;241m60\u001b[39m, \u001b[38;5;28;01mFalse\u001b[39;00m,))\n\u001b[0;32m     10\u001b[0m     spin_thread\u001b[38;5;241m.\u001b[39mstart()\n",
      "\u001b[1;31mNameError\u001b[0m: name 'spin_aduino' is not defined"
     ]
    }
   ],
   "source": [
    "ka, img = single_step(1000*.5)"
   ]
  },
  {
   "cell_type": "code",
   "execution_count": null,
   "metadata": {},
   "outputs": [
    {
     "name": "stderr",
     "output_type": "stream",
     "text": [
      "|           [time left: 00:00, time spent: 01:46]\n"
     ]
    }
   ],
   "source": [
    "ka_array = []\n",
    "rnts = 15\n",
    "with tqdm(rnts, bar_format=\"{l_bar}{bar} [time left: {remaining}, time spent: {elapsed}]\") as pbar:\n",
    "    for i in range(rnts):\n",
    "        ka, img = single_step(1000*.5)\n",
    "        ka_array += [ka]\n",
    "        pbar.update(1)"
   ]
  },
  {
   "cell_type": "code",
   "execution_count": null,
   "metadata": {},
   "outputs": [
    {
     "data": {
      "text/plain": [
       "[<matplotlib.lines.Line2D at 0x1e2a57e9b80>]"
      ]
     },
     "metadata": {},
     "output_type": "display_data"
    },
    {
     "data": {
      "image/png": "[encoded data removed]",
      "text/plain": [
       "<Figure size 640x480 with 1 Axes>"
      ]
     },
     "metadata": {},
     "output_type": "display_data"
    }
   ],
   "source": [
    "plt.plot(ka_array)"
   ]
  },
  {
   "cell_type": "code",
   "execution_count": 19,
   "metadata": {},
   "outputs": [
    {
     "name": "stdout",
     "output_type": "stream",
     "text": [
      "1.0\n"
     ]
    },
    {
     "data": {
      "image/png": "[encoded data removed]",
      "text/plain": [
       "<Figure size 640x480 with 1 Axes>"
      ]
     },
     "metadata": {},
     "output_type": "display_data"
    }
   ],
   "source": [
    "from matplotlib import pyplot as mp\n",
    "import numpy as np\n",
    "\n",
    "\n",
    "def gaussian(x, mu, sig):\n",
    "    return (\n",
    "        1.0 / (np.sqrt(2.0 * np.pi) * sig) * np.exp(-np.power((x - mu) / sig, 2.0) / 2)\n",
    "    )\n",
    "def multigauss(x,y,z,targetpos,polarizerpos):\n",
    "    return(\n",
    "        gaussian(x,17.25,0.5)*gaussian(y,10,0.5)*gaussian(z,12,0.5)*gaussian(targetpos,355000,20000)*np.sin(np.pi*polarizerpos)/(gaussian(17.25,17.25,0.5)*gaussian(10,10,0.5)*gaussian(12,12,0.5)*gaussian(355000,355000,20000)*np.sin(np.pi*0.5))\n",
    "    )\n",
    "print(multigauss(17.25,10,12,355000,0.5))\n",
    "\n",
    "x_values = np.linspace(0,24, 1200)\n",
    "mp.plot(x_values, multigauss(x_values,10,12,355000,0.5))\n",
    "\n",
    "mp.show()\n"
   ]
  },
  {
   "cell_type": "code",
   "execution_count": 20,
   "metadata": {},
   "outputs": [
    {
     "name": "stdout",
     "output_type": "stream",
     "text": [
      "Running experiment with lens_x=17.991357467150582, lens_y=9.366869579732327, lens_z=12.55938200054554, target_x=240107.00480743102, polarizer_angle=0.44583275285359125\n",
      "Measured signal: -0.9999999946265544\n",
      "Running experiment with lens_x=16.249937289545006, lens_y=9.918497783931734, lens_z=11.667417222278043, target_x=82574.78581891346, polarizer_angle=0.650888472948853\n",
      "Measured signal: -1.0\n",
      "Running experiment with lens_x=16.14102894756775, lens_y=10.44399754453365, lens_z=12.877105418031501, target_x=33270.231746831974, polarizer_angle=0.9922115592912177\n",
      "Measured signal: -1.0\n",
      "Running experiment with lens_x=17.543703774069293, lens_y=10.223306320976562, lens_z=11.014132610439434, target_x=41002.66148937127, polarizer_angle=0.5247746602583893\n",
      "Measured signal: -1.0\n",
      "Running experiment with lens_x=16.99965242928814, lens_y=9.093331326427231, lens_z=12.947511037682919, target_x=113771.6551293156, polarizer_angle=0.09060643453282081\n",
      "Measured signal: -1.0\n",
      "Running experiment with lens_x=17.54596502333272, lens_y=9.764923982534325, lens_z=12.966461771613577, target_x=194966.72395704908, polarizer_angle=0.8599404067363208\n",
      "Measured signal: -0.9999999999999993\n",
      "Running experiment with lens_x=17.70076884646945, lens_y=9.900998503939086, lens_z=11.026529922319734, target_x=359944.009222644, polarizer_angle=0.5632882178455394\n",
      "Measured signal: -0.9066805928921835\n",
      "Running experiment with lens_x=16.963541256349792, lens_y=9.031932504440428, lens_z=11.461787651244299, target_x=116635.83671102609, polarizer_angle=0.6832635188254583\n",
      "Measured signal: -1.0\n",
      "Running experiment with lens_x=17.524991644456552, lens_y=10.66638982347233, lens_z=11.346729307015543, target_x=168698.0308279146, polarizer_angle=0.18223608778806236\n",
      "Measured signal: -1.0\n",
      "Running experiment with lens_x=17.888403525794132, lens_y=9.85031174898249, lens_z=11.415883325736377, target_x=229992.0137535371, polarizer_angle=0.03131329245555859\n",
      "Measured signal: -0.9999999999309823\n",
      "Running experiment with lens_x=17.333840617241403, lens_y=11.0, lens_z=11.0, target_x=380000.0, polarizer_angle=0.0\n",
      "Measured signal: -1.0\n",
      "Running experiment with lens_x=17.66476607414764, lens_y=9.917744659574002, lens_z=11.0, target_x=380000.0, polarizer_angle=0.668623083729041\n",
      "Measured signal: -0.9626065043623437\n",
      "Running experiment with lens_x=17.725143543260234, lens_y=10.050741304473329, lens_z=11.68842069781342, target_x=198425.06750892277, polarizer_angle=0.5717822817078978\n",
      "Measured signal: -0.999999999999975\n",
      "Running experiment with lens_x=18.332782197051138, lens_y=10.7355686993704, lens_z=11.020361858196287, target_x=380000.0, polarizer_angle=0.5277403279807082\n",
      "Measured signal: -0.9978264450965946\n",
      "Running experiment with lens_x=17.229481133303178, lens_y=9.621992596570323, lens_z=11.027389318238804, target_x=353368.95801593555, polarizer_angle=0.5559322024564058\n",
      "Measured signal: -0.8889092547509738\n",
      "Running experiment with lens_x=18.173661128879637, lens_y=9.576180544855822, lens_z=11.038414012872867, target_x=375283.28691653896, polarizer_angle=0.43735659545905803\n",
      "Measured signal: -0.9883050358629523\n",
      "Running experiment with lens_x=17.43641694296127, lens_y=9.787003519288218, lens_z=11.129379033693997, target_x=347013.13303165627, polarizer_angle=1.0\n",
      "Measured signal: -1.0\n",
      "Running experiment with lens_x=17.64439993033528, lens_y=9.568398958938724, lens_z=11.37277146439295, target_x=352601.30326902546, polarizer_angle=0.5765557563206111\n",
      "Measured signal: -0.7784019208106552\n",
      "Running experiment with lens_x=17.689623145688117, lens_y=9.611631426171273, lens_z=11.394051651406839, target_x=346589.5991462963, polarizer_angle=0.5709408784774571\n",
      "Measured signal: -0.7847609388936698\n",
      "Running experiment with lens_x=17.386914960953558, lens_y=9.294785323039921, lens_z=11.372817021450055, target_x=352042.80303901114, polarizer_angle=0.5798839822396392\n",
      "Measured signal: -0.8445797531274374\n",
      "Running experiment with lens_x=17.661028363391342, lens_y=9.620551376663334, lens_z=11.399334001000751, target_x=365618.53708126646, polarizer_angle=0.5791087634515933\n",
      "Measured signal: -0.7812002411915042\n",
      "Running experiment with lens_x=17.896058972605232, lens_y=9.572444422048289, lens_z=11.339356897591701, target_x=380000.0, polarizer_angle=0.5641498269166525\n",
      "Measured signal: -0.9435831399819563\n",
      "Running experiment with lens_x=17.631359973365903, lens_y=9.596960484837004, lens_z=11.353879763425837, target_x=270440.3184329923, polarizer_angle=0.5297992784196474\n",
      "Measured signal: -0.9999693540018193\n",
      "Running experiment with lens_x=16.05294404556326, lens_y=9.718732416262457, lens_z=12.770698329643263, target_x=354632.5590915115, polarizer_angle=0.5804669228161615\n",
      "Measured signal: -0.9856575001534363\n",
      "Running experiment with lens_x=17.639131567021604, lens_y=9.583799713982646, lens_z=11.44974953875473, target_x=357490.88878394425, polarizer_angle=0.5677622975359364\n",
      "Measured signal: -0.7234687451306769\n",
      "Running experiment with lens_x=17.679599405859005, lens_y=10.280124617842164, lens_z=11.505605529514794, target_x=356730.5406109958, polarizer_angle=0.6060387404902983\n",
      "Measured signal: -0.6587677209850803\n",
      "Running experiment with lens_x=16.0249696078914, lens_y=11.0, lens_z=11.553897733698369, target_x=353594.3865150474, polarizer_angle=0.278682477734374\n",
      "Measured signal: -0.9965383853918907\n",
      "Running experiment with lens_x=17.732978803346434, lens_y=10.465332259540572, lens_z=11.546089583616178, target_x=356572.200448215, polarizer_angle=0.5997376565198835\n",
      "Measured signal: -0.7445372689556885\n",
      "Running experiment with lens_x=17.772197049455876, lens_y=10.96129041859127, lens_z=11.48411065722761, target_x=355297.42410704604, polarizer_angle=0.7898173317032391\n",
      "Measured signal: -0.967114874933759\n",
      "Running experiment with lens_x=17.595471837074072, lens_y=10.278189380800168, lens_z=11.4929842971264, target_x=353388.9030061378, polarizer_angle=0.6180543138664982\n",
      "Measured signal: -0.625164169935441\n",
      "Running experiment with lens_x=17.623145663897805, lens_y=9.204301007971441, lens_z=11.480094951436637, target_x=349935.0103785692, polarizer_angle=0.6174988928070163\n",
      "Measured signal: -0.8877643971313577\n",
      "Running experiment with lens_x=18.14342195877807, lens_y=10.153310829954009, lens_z=11.458103352680553, target_x=351896.92658913886, polarizer_angle=0.6142647396847767\n",
      "Measured signal: -0.9006015216211547\n",
      "Running experiment with lens_x=17.558996232066846, lens_y=10.173424588186677, lens_z=11.496471169218879, target_x=353319.942766278, polarizer_angle=0.6052442113965388\n",
      "Measured signal: -0.5584243000653419\n",
      "Running experiment with lens_x=17.492127913079898, lens_y=10.07145698501005, lens_z=11.531320534913519, target_x=353154.0910473701, polarizer_angle=0.5789492476801182\n",
      "Measured signal: -0.4523524397302481\n",
      "Running experiment with lens_x=17.435879186622955, lens_y=10.021267969922485, lens_z=11.569634982715668, target_x=353248.7547173389, polarizer_angle=0.5535554782440205\n",
      "Measured signal: -0.36776220743198196\n",
      "Running experiment with lens_x=17.38701919237199, lens_y=9.9939255876948, lens_z=11.606343442838318, target_x=353410.3828336016, polarizer_angle=0.5295014576889374\n",
      "Measured signal: -0.2988356632377267\n",
      "Running experiment with lens_x=17.190363442701745, lens_y=10.002822281750925, lens_z=11.869718667972421, target_x=355427.78035949304, polarizer_angle=0.3097850511305063\n",
      "Measured signal: -0.20674978543091183\n",
      "Running experiment with lens_x=17.155194946340078, lens_y=9.980234644889439, lens_z=11.865883701694202, target_x=355878.48005246895, polarizer_angle=0.6072880329157085\n",
      "Measured signal: -0.10739290244417832\n",
      "Running experiment with lens_x=17.022059639667674, lens_y=9.988831512466156, lens_z=11.809670495150478, target_x=361555.2000688572, polarizer_angle=0.5727043258974501\n",
      "Measured signal: -0.22635488331151032\n",
      "Running experiment with lens_x=17.26018717052892, lens_y=9.97449878047229, lens_z=11.989419035900134, target_x=352305.5661911862, polarizer_angle=0.6065058354116593\n",
      "Measured signal: -0.06561035374430302\n",
      "Running experiment with lens_x=17.168892807701226, lens_y=9.968025164352962, lens_z=12.028053725760662, target_x=335261.5990907429, polarizer_angle=0.6143102159695387\n",
      "Measured signal: -0.43430427901835156\n",
      "Running experiment with lens_x=17.26666836861644, lens_y=9.981912284560396, lens_z=12.021633309838377, target_x=354983.0629280836, polarizer_angle=0.5876582346939166\n",
      "Measured signal: -0.03974308717711439\n",
      "Running experiment with lens_x=17.300404865759788, lens_y=10.032057630657551, lens_z=12.350069835604316, target_x=362628.49583786645, polarizer_angle=0.7559328360785982\n",
      "Measured signal: -0.4986951293552272\n",
      "Running experiment with lens_x=17.298836830372483, lens_y=9.992329561142874, lens_z=11.987804139398975, target_x=356102.5196094019, polarizer_angle=0.5128552523027546\n",
      "Measured signal: -0.007492185674130347\n",
      "Running experiment with lens_x=17.290037941096134, lens_y=9.811296103134914, lens_z=12.041290928158737, target_x=356547.3804364851, polarizer_angle=0.49008780056919576\n",
      "Measured signal: -0.07809416343328124\n",
      "Running experiment with lens_x=17.265667415072954, lens_y=10.09906809047448, lens_z=12.033470743704028, target_x=354709.36937130516, polarizer_angle=0.49520648902070746\n",
      "Measured signal: -0.02232645954407808\n",
      "Running experiment with lens_x=17.39700547938763, lens_y=10.066800497756143, lens_z=12.02904654500039, target_x=357603.23864941, polarizer_angle=0.49856541872258237\n",
      "Measured signal: -0.06041262118775914\n",
      "Running experiment with lens_x=18.5, lens_y=11.0, lens_z=13.0, target_x=33000.0, polarizer_angle=0.0\n",
      "Measured signal: -1.0\n",
      "Running experiment with lens_x=16.0, lens_y=11.0, lens_z=13.0, target_x=231216.17735693447, polarizer_angle=0.0\n",
      "Measured signal: -1.0\n",
      "Running experiment with lens_x=18.5, lens_y=9.0, lens_z=13.0, target_x=33000.0, polarizer_angle=1.0\n",
      "Measured signal: -1.0\n",
      "Running experiment with lens_x=17.24149449587299, lens_y=10.038172061754922, lens_z=11.98018738237339, target_x=358149.4635188743, polarizer_angle=0.505626678934932\n",
      "Measured signal: -0.016265388030008654\n",
      "Running experiment with lens_x=17.232137170195678, lens_y=9.994391658617507, lens_z=11.990337505020463, target_x=354309.79840921843, polarizer_angle=0.5059913467803197\n",
      "Measured signal: -0.0016590423281807043\n",
      "Running experiment with lens_x=16.0, lens_y=9.0, lens_z=11.0, target_x=213216.01495415095, polarizer_angle=1.0\n",
      "Measured signal: -1.0\n",
      "Running experiment with lens_x=18.5, lens_y=9.0, lens_z=13.0, target_x=380000.0, polarizer_angle=0.0\n",
      "Measured signal: -1.0\n",
      "Running experiment with lens_x=17.24027899498267, lens_y=9.99479300011558, lens_z=12.033750449878173, target_x=355382.9657994992, polarizer_angle=0.49954393212359693\n",
      "Measured signal: -0.0027021049646782647\n",
      "Running experiment with lens_x=17.244494725822165, lens_y=10.010051762977112, lens_z=12.00146051624723, target_x=354909.57818003226, polarizer_angle=0.5157571438292347\n",
      "Measured signal: -0.0015018003245034217\n",
      "Running experiment with lens_x=17.260660675727102, lens_y=9.998218524542171, lens_z=12.001461187281937, target_x=354533.90777849895, polarizer_angle=0.4947584659274832\n",
      "Measured signal: -0.0006448452078853251\n",
      "Running experiment with lens_x=17.245375470195558, lens_y=9.995310183405664, lens_z=11.994255147486703, target_x=355241.56243854767, polarizer_angle=0.4984562082798406\n",
      "Measured signal: -0.0002374414180036366\n",
      "Running experiment with lens_x=17.259333653195245, lens_y=9.995660992121982, lens_z=12.006380307302281, target_x=354519.6968305217, polarizer_angle=0.5036618939389895\n",
      "Measured signal: -0.0006476334263829653\n",
      "Running experiment with lens_x=17.244909997100663, lens_y=9.994708477345442, lens_z=11.995664694168337, target_x=355214.1263131118, polarizer_angle=0.5014248402192509\n"
     ]
    },
    {
     "data": {
      "image/png": "[encoded data removed]",
      "text/plain": [
       "<Figure size 640x480 with 1 Axes>"
      ]
     },
     "metadata": {},
     "output_type": "display_data"
    },
    {
     "name": "stdout",
     "output_type": "stream",
     "text": [
      "Measured signal: -0.00021271492589114427\n",
      "Best parameters found: [17.244909997100663, 9.994708477345442, 11.995664694168337, 355214.1263131118, 0.5014248402192509]\n",
      "Best signal value: -0.00021271492589114427\n"
     ]
    }
   ],
   "source": [
    "#spin_steps = \n",
    "#spin_thread = threading.Thread(target=spin_aduino.set_value, args=('M', 'X', spin_steps, False,))\n",
    "#spin_thread.start()\n",
    "measuredsignalvec=[]\n",
    "\n",
    "# Define the parameter space: lens positions (x, y, z), target (x), polarizer (angle) \n",
    "space = [\n",
    "    Real(16, 18.5, name='lens_focus'),      # Lens focus-position \n",
    "    Real(9, 11, name='lens_y'),      # Lens y-position \n",
    "    Real(11, 13, name='lens_z'),      # Lens z-position \n",
    "    Real(33000, 380000, name='target_x'),      # Target x-position \n",
    "    Real(0, 1, name='polarizer_angle')  # Polarizer angle in radians \n",
    "] \n",
    "\n",
    "# Objective function that simulates an experiment \n",
    "def objective_function(params): \n",
    "    lens_x, lens_y, lens_z, target_x, polarizer_angle = params \n",
    "\n",
    "    # Simulate running your experiment with these parameters \n",
    "    print(f\"Running experiment with lens_x={lens_x}, lens_y={lens_y}, lens_z={lens_z}, target_x={target_x}, polarizer_angle={polarizer_angle}\") \n",
    " #   single_step()\n",
    "\n",
    "\n",
    "    # Here, you would call your actual experiment functions: \n",
    "    # move_lens_to(lens_x, lens_y, lens_z) \n",
    "    # move_target_to(target_x) \n",
    "    # rotate_polarizer_to(polarizer_angle) \n",
    "\n",
    "    # Simulate measuring the result (replace this with actual data from the experiment) \n",
    "    #time.sleep(1)  # Simulating the time it takes for the experiment \n",
    "    measured_signal =     multigauss(lens_x,lens_y,lens_z,target_x,polarizer_angle)-1#np.random.random()  # Replace with your actual measurement \n",
    "\n",
    "    measuredsignalvec.append(measured_signal)\n",
    "    if len(measuredsignalvec)==60:\n",
    "        mp.plot(measuredsignalvec)\n",
    "        mp.show()\n",
    "\n",
    "    print(f\"Measured signal: {measured_signal}\") \n",
    "\n",
    "    # Return the negative signal because skopt minimizes functions \n",
    "    return -measured_signal\n",
    "\n",
    "\n",
    "\n",
    "# Running Bayesian optimization with n_calls=30 and random_state=42 \n",
    "# n_calls = number of evaluations of the objective function (i.e., how many experiments to run) \n",
    "# random_state = fixed seed for the random number generator to ensure reproducibility \n",
    "\n",
    "# Setting n_calls=30 means we will run the experiment 30 times with different parameter configurations suggested by the optimizer. \n",
    "# Setting random_state=42 ensures that we get the same parameter suggestions every time we run this code, making the results reproducible. \n",
    "\n",
    "res = gp_minimize(objective_function, space, n_calls=60, random_state=42) \n",
    "\n",
    "# Print the best parameters found \n",
    "best_params = res.x \n",
    "best_signal = -res.fun  # Flip the sign to get the actual signal \n",
    "print(\"Best parameters found:\", best_params) \n",
    "print(\"Best signal value:\", best_signal) \n",
    "\n",
    "\n",
    "\n",
    "# Here’s why we used the following: \n",
    "# - n_calls=30: This means the optimizer will run the objective function 30 times, each time suggesting new parameters to test. \n",
    "# - random_state=42: This ensures that every time you run the code, the results will be the same, which is useful for reproducibility. \n",
    "#   You can change this to another number if you want, or leave it out entirely if you don't need reproducibility. "
   ]
  },
  {
   "cell_type": "markdown",
   "metadata": {},
   "source": [
    "# Bin"
   ]
  },
  {
   "cell_type": "code",
   "execution_count": null,
   "metadata": {},
   "outputs": [],
   "source": [
    "Standa_Vac_2.get_position()\n",
    "Standa_Vac_2.move_to(355000)"
   ]
  },
  {
   "cell_type": "code",
   "execution_count": null,
   "metadata": {},
   "outputs": [],
   "source": [
    "#AG_UC8_move_WP(1000) # 1.5 deg in 1000 steps \n",
    "AG_UC8_move_WP(1000) # 1.5 deg in 1000 steps "
   ]
  },
  {
   "cell_type": "code",
   "execution_count": null,
   "metadata": {},
   "outputs": [],
   "source": [
    "SMC_move_focus(17)\n",
    "SMC_move_x(9.8)\n",
    "SMC_move_y(12.5)\n"
   ]
  },
  {
   "cell_type": "code",
   "execution_count": null,
   "metadata": {},
   "outputs": [
    {
     "name": "stdout",
     "output_type": "stream",
     "text": [
      "16.99999 9.8 12.49999\n"
     ]
    }
   ],
   "source": [
    "posf=SMC_get_focus()\n",
    "posx=SMC_get_x()\n",
    "posy=SMC_get_y()\n",
    "print(posf,posx,posy)"
   ]
  },
  {
   "cell_type": "code",
   "execution_count": null,
   "metadata": {},
   "outputs": [
    {
     "data": {
      "text/plain": [
       "'Off was executed\\r\\n'"
      ]
     },
     "metadata": {},
     "output_type": "display_data"
    }
   ],
   "source": [
    "Arduino_Shutter.OpenShutter(Device_to_Open_string)\n",
    "time.sleep(.1)\n",
    "Arduino_Shutter.CloseShutter(Device_to_Open_string)"
   ]
  },
  {
   "cell_type": "code",
   "execution_count": null,
   "metadata": {},
   "outputs": [
    {
     "name": "stdout",
     "output_type": "stream",
     "text": [
      "352945634.0\n"
     ]
    }
   ],
   "source": [
    "print(np.amax(acquire_data()))"
   ]
  },
  {
   "cell_type": "code",
   "execution_count": null,
   "metadata": {},
   "outputs": [
    {
     "name": "stdout",
     "output_type": "stream",
     "text": [
      "(1, 2052, 2048)\n"
     ]
    }
   ],
   "source": [
    "data_scan = np.array([img])\n",
    "print(np.shape(data_scan))"
   ]
  },
  {
   "cell_type": "code",
   "execution_count": null,
   "metadata": {},
   "outputs": [],
   "source": [
    "open_shutter_for_seconds(1)"
   ]
  },
  {
   "cell_type": "code",
   "execution_count": null,
   "metadata": {},
   "outputs": [],
   "source": [
    "shutter_thread = threading.Thread(target=open_shutter_for_seconds, args=(3,))\n",
    "\n",
    "# Open Laser Shutter\n",
    "shutter_thread.start()"
   ]
  },
  {
   "cell_type": "code",
   "execution_count": null,
   "metadata": {},
   "outputs": [
    {
     "name": "stdout",
     "output_type": "stream",
     "text": [
      "input: b'MX:100000\\n'\n",
      "b''\n"
     ]
    },
    {
     "data": {
      "text/plain": [
       "\"b''\""
      ]
     },
     "metadata": {},
     "output_type": "display_data"
    }
   ],
   "source": [
    "stage_aduino.set_value(\"M\",\"X\",100000)"
   ]
  },
  {
   "cell_type": "code",
   "execution_count": null,
   "metadata": {},
   "outputs": [
    {
     "name": "stdout",
     "output_type": "stream",
     "text": [
      "input: b'TX:500\\n'\n",
      "b''\n"
     ]
    },
    {
     "data": {
      "text/plain": [
       "\"b''\""
      ]
     },
     "metadata": {},
     "output_type": "display_data"
    }
   ],
   "source": [
    "stage_aduino.set_value(\"T\",\"X\",500)"
   ]
  },
  {
   "cell_type": "code",
   "execution_count": null,
   "metadata": {},
   "outputs": [
    {
     "name": "stdout",
     "output_type": "stream",
     "text": [
      "input: b'MX:100000\\n'\n",
      "b''\n"
     ]
    },
    {
     "data": {
      "text/plain": [
       "\"b''\""
      ]
     },
     "metadata": {},
     "output_type": "display_data"
    }
   ],
   "source": [
    "spin_aduino.set_value(\"M\",\"X\",100000)"
   ]
  },
  {
   "cell_type": "code",
   "execution_count": null,
   "metadata": {},
   "outputs": [],
   "source": []
  }
 ],
 "metadata": {
  "kernelspec": {
   "display_name": "Python 3",
   "language": "python",
   "name": "python3"
  },
  "language_info": {
   "codemirror_mode": {
    "name": "ipython",
    "version": 3
   },
   "file_extension": ".py",
   "mimetype": "text/x-python",
   "name": "python",
   "nbconvert_exporter": "python",
   "pygments_lexer": "ipython3",
   "version": "3.12.3"
  }
 },
 "nbformat": 4,
 "nbformat_minor": 2
}
