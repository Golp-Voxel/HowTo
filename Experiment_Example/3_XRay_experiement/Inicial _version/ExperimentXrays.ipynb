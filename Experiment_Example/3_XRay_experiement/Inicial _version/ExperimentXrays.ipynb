{
 "cells": [
  {
   "cell_type": "code",
   "execution_count": 2,
   "metadata": {},
   "outputs": [],
   "source": [
    "import tango\n",
    "import cv2\n",
    "import json\n",
    "import numpy as np\n",
    "import matplotlib.pyplot as plt\n",
    "import time\n",
    "MFA_1_AXEIS= 1\n",
    "MFA_2_AXEIS= 2\n",
    "MFA_3_AXEIS= 3\n",
    "REAPER_MFA_3 = True\n"
   ]
  },
  {
   "cell_type": "markdown",
   "metadata": {},
   "source": [
    "## Inicializaçao das variáveis do piezo para converter relativos em absolutos\n",
    "### Correr so uma vez"
   ]
  },
  {
   "cell_type": "code",
   "execution_count": 89,
   "metadata": {},
   "outputs": [],
   "source": [
    "\n",
    "polaroide_position = 0\n",
    "tilt_1_position = 0\n",
    "tilt_2_position = 0\n",
    "KDF_position = 0"
   ]
  },
  {
   "cell_type": "markdown",
   "metadata": {},
   "source": [
    "## Init the Shutter controlled by a Arduino Tango communication"
   ]
  },
  {
   "cell_type": "code",
   "execution_count": 90,
   "metadata": {},
   "outputs": [
    {
     "name": "stdout",
     "output_type": "stream",
     "text": [
      "ON\n"
     ]
    }
   ],
   "source": [
    "#insert arduino serial port to initialize connection with arduino\n",
    "Arduino_Shutter = tango.DeviceProxy(\"voxel/Arduino_Shutter/1\")\n",
    "print(Arduino_Shutter.state())\n",
    "Arduino_Shutter.set_timeout_millis(10000)\n"
   ]
  },
  {
   "cell_type": "markdown",
   "metadata": {},
   "source": [
    "### Importante se o Kernel rebentar não correr esta linha abaixo"
   ]
  },
  {
   "cell_type": "code",
   "execution_count": 91,
   "metadata": {},
   "outputs": [
    {
     "data": {
      "text/plain": [
       "'Not possible to connect to the divece'"
      ]
     },
     "execution_count": 91,
     "metadata": {},
     "output_type": "execute_result"
    }
   ],
   "source": [
    "ArduinoInfo =   {\n",
    "                    \"Name\"      : \"AS1\",\n",
    "                    \"COM\"       : 4\n",
    "                }\n",
    "ArduinoInfo = json.dumps(ArduinoInfo)\n",
    "Arduino_Shutter.Connect(ArduinoInfo)"
   ]
  },
  {
   "cell_type": "markdown",
   "metadata": {},
   "source": [
    "## Init the Newport AG_UC8 Tango communication"
   ]
  },
  {
   "cell_type": "code",
   "execution_count": 92,
   "metadata": {},
   "outputs": [
    {
     "name": "stdout",
     "output_type": "stream",
     "text": [
      "ON\n"
     ]
    }
   ],
   "source": [
    "#insert arduino serial port to initialize connection with AG_UC8 \n",
    "import tango\n",
    "import json\n",
    "N_AG_UC8 = tango.DeviceProxy(\"voxel/ag_uc8/1\")\n",
    "N_AG_UC8.set_timeout_millis(120000)\n",
    "print(N_AG_UC8.state())\n",
    "\n"
   ]
  },
  {
   "cell_type": "markdown",
   "metadata": {},
   "source": [
    "### Importante se o Kernel rebentar não correr esta linha abaixo"
   ]
  },
  {
   "cell_type": "code",
   "execution_count": 93,
   "metadata": {},
   "outputs": [
    {
     "ename": "DevFailed",
     "evalue": "DevFailed[\nDevError[\n    desc = serial.serialutil.SerialException: could not open port 'COM6': PermissionError(13, 'Access is denied.', None, 5)\n           \n  origin = Traceback (most recent call last):\n  File \"C:\\Users\\Voxel\\Desktop\\Tango_Device\\Tango-Newport_AG_UC8\\tango-env\\Lib\\site-packages\\tango\\server.py\", line 1552, in cmd\n    return get_worker().execute(f, self, *args, **kwargs)\n           ^^^^^^^^^^^^^^^^^^^^^^^^^^^^^^^^^^^^^^^^^^^^^^\n  File \"C:\\Users\\Voxel\\Desktop\\Tango_Device\\Tango-Newport_AG_UC8\\tango-env\\Lib\\site-packages\\tango\\green.py\", line 113, in execute\n    return fn(*args, **kwargs)\n           ^^^^^^^^^^^^^^^^^^^\n  File \"C:\\Users\\Voxel\\Desktop\\Tango_Device\\Tango-Newport_AG_UC8\\AG_UC8.py\", line 54, in Connect\n    ctl = Newport_AG_UC8(\"Newport\",\"ASRL\"+str(AG_UC8[\"COM\"]))\n          ^^^^^^^^^^^^^^^^^^^^^^^^^^^^^^^^^^^^^^^^^^^^^^^^^^^\n  File \"C:\\Users\\Voxel\\Desktop\\Tango_Device\\Tango-Newport_AG_UC8\\tango-env\\Lib\\site-packages\\qcodes\\instrument\\instrument_meta.py\", line 36, in __call__\n    new_inst = super().__call__(*args, **kwargs)\n               ^^^^^^^^^^^^^^^^^^^^^^^^^^^^^^^^^\n  File \"C:\\Users\\Voxel\\Desktop\\Tango_Device\\Tango-Newport_AG_UC8\\tango-env\\Lib\\site-packages\\qcodes_contrib_drivers\\drivers\\Newport\\AG_UC8.py\", line 267, in __init__\n    super().__init__(name,\n  File \"C:\\Users\\Voxel\\Desktop\\Tango_Device\\Tango-Newport_AG_UC8\\tango-env\\Lib\\site-packages\\qcodes\\instrument\\visa.py\", line 132, in __init__\n    visa_handle, visabackend, resource_manager = self._connect_and_handle_error(\n                                                 ^^^^^^^^^^^^^^^^^^^^^^^^^^^^^^^\n  File \"C:\\Users\\Voxel\\Desktop\\Tango_Device\\Tango-Newport_AG_UC8\\tango-env\\Lib\\site-packages\\qcodes\\instrument\\visa.py\", line 165, in _connect_and_handle_error\n    raise e\n  File \"C:\\Users\\Voxel\\Desktop\\Tango_Device\\Tango-Newport_AG_UC8\\tango-env\\Lib\\site-packages\\qcodes\\instrument\\visa.py\", line 159, in _connect_and_handle_error\n    visa_handle, visabackend, resource_manager = self._open_resource(\n                                                 ^^^^^^^^^^^^^^^^^^^^\n  File \"C:\\Users\\Voxel\\Desktop\\Tango_Device\\Tango-Newport_AG_UC8\\tango-env\\Lib\\site-packages\\qcodes\\instrument\\visa.py\", line 188, in _open_resource\n    resource = resource_manager.open_resource(address)\n               ^^^^^^^^^^^^^^^^^^^^^^^^^^^^^^^^^^^^^^^\n  File \"C:\\Users\\Voxel\\Desktop\\Tango_Device\\Tango-Newport_AG_UC8\\tango-env\\Lib\\site-packages\\pyvisa\\highlevel.py\", line 3292, in open_resource\n    res.open(access_mode, open_timeout)\n  File \"C:\\Users\\Voxel\\Desktop\\Tango_Device\\Tango-Newport_AG_UC8\\tango-env\\Lib\\site-packages\\pyvisa\\resources\\resource.py\", line 281, in open\n    self.session, status = self._resource_manager.open_bare_resource(\n                           ^^^^^^^^^^^^^^^^^^^^^^^^^^^^^^^^^^^^^^^^^^\n  File \"C:\\Users\\Voxel\\Desktop\\Tango_Device\\Tango-Newport_AG_UC8\\tango-env\\Lib\\site-packages\\pyvisa\\highlevel.py\", line 3217, in open_bare_resource\n    return self.visalib.open(self.session, resource_name, access_mode, open_timeout)\n           ^^^^^^^^^^^^^^^^^^^^^^^^^^^^^^^^^^^^^^^^^^^^^^^^^^^^^^^^^^^^^^^^^^^^^^^^^\n  File \"C:\\Users\\Voxel\\Desktop\\Tango_Device\\Tango-Newport_AG_UC8\\tango-env\\Lib\\site-packages\\pyvisa_py\\highlevel.py\", line 168, in open\n    sess = cls(session, resource_name, parsed, open_timeout)\n           ^^^^^^^^^^^^^^^^^^^^^^^^^^^^^^^^^^^^^^^^^^^^^^^^^\n  File \"C:\\Users\\Voxel\\Desktop\\Tango_Device\\Tango-Newport_AG_UC8\\tango-env\\Lib\\site-packages\\pyvisa_py\\sessions.py\", line 322, in __init__\n    self.after_parsing()\n  File \"C:\\Users\\Voxel\\Desktop\\Tango_Device\\Tango-Newport_AG_UC8\\tango-env\\Lib\\site-packages\\pyvisa_py\\serial.py\", line 70, in after_parsing\n    self.interface = serial.serial_for_url(\n                     ^^^^^^^^^^^^^^^^^^^^^^\n  File \"C:\\Users\\Voxel\\Desktop\\Tango_Device\\Tango-Newport_AG_UC8\\tango-env\\Lib\\site-packages\\serial\\__init__.py\", line 90, in serial_for_url\n    instance.open()\n  File \"C:\\Users\\Voxel\\Desktop\\Tango_Device\\Tango-Newport_AG_UC8\\tango-env\\Lib\\site-packages\\serial\\serialwin32.py\", line 64, in open\n    raise SerialException(\"could not open port {!r}: {!r}\".format(self.portstr, ctypes.WinError()))\nserial.serialutil.SerialException: could not open port 'COM6': PermissionError(13, 'Access is denied.', None, 5)\n\n  reason = PyDs_PythonError\nseverity = ERR]\n\nDevError[\n    desc = Failed to execute command_inout on device voxel/ag_uc8/1, command Connect\n  origin = class Tango::DeviceData __cdecl Tango::Connection::command_inout(const class std::basic_string<char,struct std::char_traits<char>,class std::allocator<char> > &,const class Tango::DeviceData &) at (C:\\GitLab-Runner\\builds\\tango-controls\\cppTango\\src\\client\\devapi_base.cpp:1334)\n  reason = API_CommandFailed\nseverity = ERR]\n]",
     "output_type": "error",
     "traceback": [
      "\u001b[1;31m---------------------------------------------------------------------------\u001b[0m",
      "\u001b[1;31mDevFailed\u001b[0m                                 Traceback (most recent call last)",
      "Cell \u001b[1;32mIn[93], line 7\u001b[0m\n\u001b[0;32m      1\u001b[0m AG_UC8 \u001b[38;5;241m=\u001b[39m {\n\u001b[0;32m      2\u001b[0m             \u001b[38;5;124m\"\u001b[39m\u001b[38;5;124mName\u001b[39m\u001b[38;5;124m\"\u001b[39m      : \u001b[38;5;124m\"\u001b[39m\u001b[38;5;124mController_1\u001b[39m\u001b[38;5;124m\"\u001b[39m,\n\u001b[0;32m      3\u001b[0m             \u001b[38;5;124m\"\u001b[39m\u001b[38;5;124mCOM\u001b[39m\u001b[38;5;124m\"\u001b[39m       : \u001b[38;5;241m6\u001b[39m,   \n\u001b[0;32m      4\u001b[0m          }\n\u001b[0;32m      6\u001b[0m AG_UC8 \u001b[38;5;241m=\u001b[39m json\u001b[38;5;241m.\u001b[39mdumps(AG_UC8)\n\u001b[1;32m----> 7\u001b[0m \u001b[38;5;28mprint\u001b[39m(\u001b[43mN_AG_UC8\u001b[49m\u001b[38;5;241;43m.\u001b[39;49m\u001b[43mConnect\u001b[49m\u001b[43m(\u001b[49m\u001b[43mAG_UC8\u001b[49m\u001b[43m)\u001b[49m)\n",
      "File \u001b[1;32mc:\\Users\\Voxel\\AppData\\Local\\Programs\\Python\\Python312\\Lib\\site-packages\\tango\\device_proxy.py:365\u001b[0m, in \u001b[0;36m__get_command_func.<locals>.f\u001b[1;34m(*args, **kwds)\u001b[0m\n\u001b[0;32m    364\u001b[0m \u001b[38;5;28;01mdef\u001b[39;00m \u001b[38;5;21mf\u001b[39m(\u001b[38;5;241m*\u001b[39margs, \u001b[38;5;241m*\u001b[39m\u001b[38;5;241m*\u001b[39mkwds):\n\u001b[1;32m--> 365\u001b[0m     \u001b[38;5;28;01mreturn\u001b[39;00m \u001b[43mdp\u001b[49m\u001b[38;5;241;43m.\u001b[39;49m\u001b[43mcommand_inout\u001b[49m\u001b[43m(\u001b[49m\u001b[43mname\u001b[49m\u001b[43m,\u001b[49m\u001b[43m \u001b[49m\u001b[38;5;241;43m*\u001b[39;49m\u001b[43margs\u001b[49m\u001b[43m,\u001b[49m\u001b[43m \u001b[49m\u001b[38;5;241;43m*\u001b[39;49m\u001b[38;5;241;43m*\u001b[39;49m\u001b[43mkwds\u001b[49m\u001b[43m)\u001b[49m\n",
      "File \u001b[1;32mc:\\Users\\Voxel\\AppData\\Local\\Programs\\Python\\Python312\\Lib\\site-packages\\tango\\green.py:234\u001b[0m, in \u001b[0;36mgreen.<locals>.decorator.<locals>.greener\u001b[1;34m(obj, *args, **kwargs)\u001b[0m\n\u001b[0;32m    232\u001b[0m green_mode \u001b[38;5;241m=\u001b[39m access(\u001b[38;5;124m\"\u001b[39m\u001b[38;5;124mgreen_mode\u001b[39m\u001b[38;5;124m\"\u001b[39m, \u001b[38;5;28;01mNone\u001b[39;00m)\n\u001b[0;32m    233\u001b[0m executor \u001b[38;5;241m=\u001b[39m get_object_executor(obj, green_mode)\n\u001b[1;32m--> 234\u001b[0m \u001b[38;5;28;01mreturn\u001b[39;00m \u001b[43mexecutor\u001b[49m\u001b[38;5;241;43m.\u001b[39;49m\u001b[43mrun\u001b[49m\u001b[43m(\u001b[49m\u001b[43mfn\u001b[49m\u001b[43m,\u001b[49m\u001b[43m \u001b[49m\u001b[43margs\u001b[49m\u001b[43m,\u001b[49m\u001b[43m \u001b[49m\u001b[43mkwargs\u001b[49m\u001b[43m,\u001b[49m\u001b[43m \u001b[49m\u001b[43mwait\u001b[49m\u001b[38;5;241;43m=\u001b[39;49m\u001b[43mwait\u001b[49m\u001b[43m,\u001b[49m\u001b[43m \u001b[49m\u001b[43mtimeout\u001b[49m\u001b[38;5;241;43m=\u001b[39;49m\u001b[43mtimeout\u001b[49m\u001b[43m)\u001b[49m\n",
      "File \u001b[1;32mc:\\Users\\Voxel\\AppData\\Local\\Programs\\Python\\Python312\\Lib\\site-packages\\tango\\green.py:124\u001b[0m, in \u001b[0;36mAbstractExecutor.run\u001b[1;34m(self, fn, args, kwargs, wait, timeout)\u001b[0m\n\u001b[0;32m    122\u001b[0m \u001b[38;5;66;03m# Synchronous (no delegation)\u001b[39;00m\n\u001b[0;32m    123\u001b[0m \u001b[38;5;28;01mif\u001b[39;00m \u001b[38;5;129;01mnot\u001b[39;00m \u001b[38;5;28mself\u001b[39m\u001b[38;5;241m.\u001b[39masynchronous \u001b[38;5;129;01mor\u001b[39;00m \u001b[38;5;129;01mnot\u001b[39;00m \u001b[38;5;28mself\u001b[39m\u001b[38;5;241m.\u001b[39min_executor_context():\n\u001b[1;32m--> 124\u001b[0m     \u001b[38;5;28;01mreturn\u001b[39;00m \u001b[43mfn\u001b[49m\u001b[43m(\u001b[49m\u001b[38;5;241;43m*\u001b[39;49m\u001b[43margs\u001b[49m\u001b[43m,\u001b[49m\u001b[43m \u001b[49m\u001b[38;5;241;43m*\u001b[39;49m\u001b[38;5;241;43m*\u001b[39;49m\u001b[43mkwargs\u001b[49m\u001b[43m)\u001b[49m\n\u001b[0;32m    125\u001b[0m \u001b[38;5;66;03m# Asynchronous delegation\u001b[39;00m\n\u001b[0;32m    126\u001b[0m accessor \u001b[38;5;241m=\u001b[39m \u001b[38;5;28mself\u001b[39m\u001b[38;5;241m.\u001b[39mdelegate(fn, \u001b[38;5;241m*\u001b[39margs, \u001b[38;5;241m*\u001b[39m\u001b[38;5;241m*\u001b[39mkwargs)\n",
      "File \u001b[1;32mc:\\Users\\Voxel\\AppData\\Local\\Programs\\Python\\Python312\\Lib\\site-packages\\tango\\connection.py:116\u001b[0m, in \u001b[0;36m__Connection__command_inout\u001b[1;34m(self, name, *args, **kwds)\u001b[0m\n\u001b[0;32m     84\u001b[0m \u001b[38;5;28;01mdef\u001b[39;00m \u001b[38;5;21m__Connection__command_inout\u001b[39m(\u001b[38;5;28mself\u001b[39m, name, \u001b[38;5;241m*\u001b[39margs, \u001b[38;5;241m*\u001b[39m\u001b[38;5;241m*\u001b[39mkwds):\n\u001b[0;32m     85\u001b[0m \u001b[38;5;250m    \u001b[39m\u001b[38;5;124;03m\"\"\"\u001b[39;00m\n\u001b[0;32m     86\u001b[0m \u001b[38;5;124;03m    command_inout( self, cmd_name, cmd_param=None, green_mode=None, wait=True, timeout=None) -> any\u001b[39;00m\n\u001b[0;32m     87\u001b[0m \n\u001b[1;32m   (...)\u001b[0m\n\u001b[0;32m    114\u001b[0m \u001b[38;5;124;03m        *timeout* parameter.\u001b[39;00m\n\u001b[0;32m    115\u001b[0m \u001b[38;5;124;03m    \"\"\"\u001b[39;00m\n\u001b[1;32m--> 116\u001b[0m     r \u001b[38;5;241m=\u001b[39m \u001b[43mConnection\u001b[49m\u001b[38;5;241;43m.\u001b[39;49m\u001b[43mcommand_inout_raw\u001b[49m\u001b[43m(\u001b[49m\u001b[38;5;28;43mself\u001b[39;49m\u001b[43m,\u001b[49m\u001b[43m \u001b[49m\u001b[43mname\u001b[49m\u001b[43m,\u001b[49m\u001b[43m \u001b[49m\u001b[38;5;241;43m*\u001b[39;49m\u001b[43margs\u001b[49m\u001b[43m,\u001b[49m\u001b[43m \u001b[49m\u001b[38;5;241;43m*\u001b[39;49m\u001b[38;5;241;43m*\u001b[39;49m\u001b[43mkwds\u001b[49m\u001b[43m)\u001b[49m\n\u001b[0;32m    117\u001b[0m     \u001b[38;5;28;01mif\u001b[39;00m \u001b[38;5;28misinstance\u001b[39m(r, DeviceData):\n\u001b[0;32m    118\u001b[0m         \u001b[38;5;28;01mtry\u001b[39;00m:\n",
      "File \u001b[1;32mc:\\Users\\Voxel\\AppData\\Local\\Programs\\Python\\Python312\\Lib\\site-packages\\tango\\connection.py:145\u001b[0m, in \u001b[0;36m__Connection__command_inout_raw\u001b[1;34m(self, cmd_name, cmd_param)\u001b[0m\n\u001b[0;32m    130\u001b[0m \u001b[38;5;250m\u001b[39m\u001b[38;5;124;03m\"\"\"\u001b[39;00m\n\u001b[0;32m    131\u001b[0m \u001b[38;5;124;03mcommand_inout_raw( self, cmd_name, cmd_param=None) -> DeviceData\u001b[39;00m\n\u001b[0;32m    132\u001b[0m \n\u001b[1;32m   (...)\u001b[0m\n\u001b[0;32m    142\u001b[0m \u001b[38;5;124;03m    Throws     : ConnectionFailed, CommunicationFailed, DeviceUnlocked, DevFailed from device\u001b[39;00m\n\u001b[0;32m    143\u001b[0m \u001b[38;5;124;03m\"\"\"\u001b[39;00m\n\u001b[0;32m    144\u001b[0m param \u001b[38;5;241m=\u001b[39m __get_command_inout_param(\u001b[38;5;28mself\u001b[39m, cmd_name, cmd_param)\n\u001b[1;32m--> 145\u001b[0m \u001b[38;5;28;01mreturn\u001b[39;00m \u001b[38;5;28;43mself\u001b[39;49m\u001b[38;5;241;43m.\u001b[39;49m\u001b[43m__command_inout\u001b[49m\u001b[43m(\u001b[49m\u001b[43mcmd_name\u001b[49m\u001b[43m,\u001b[49m\u001b[43m \u001b[49m\u001b[43mparam\u001b[49m\u001b[43m)\u001b[49m\n",
      "\u001b[1;31mDevFailed\u001b[0m: DevFailed[\nDevError[\n    desc = serial.serialutil.SerialException: could not open port 'COM6': PermissionError(13, 'Access is denied.', None, 5)\n           \n  origin = Traceback (most recent call last):\n  File \"C:\\Users\\Voxel\\Desktop\\Tango_Device\\Tango-Newport_AG_UC8\\tango-env\\Lib\\site-packages\\tango\\server.py\", line 1552, in cmd\n    return get_worker().execute(f, self, *args, **kwargs)\n           ^^^^^^^^^^^^^^^^^^^^^^^^^^^^^^^^^^^^^^^^^^^^^^\n  File \"C:\\Users\\Voxel\\Desktop\\Tango_Device\\Tango-Newport_AG_UC8\\tango-env\\Lib\\site-packages\\tango\\green.py\", line 113, in execute\n    return fn(*args, **kwargs)\n           ^^^^^^^^^^^^^^^^^^^\n  File \"C:\\Users\\Voxel\\Desktop\\Tango_Device\\Tango-Newport_AG_UC8\\AG_UC8.py\", line 54, in Connect\n    ctl = Newport_AG_UC8(\"Newport\",\"ASRL\"+str(AG_UC8[\"COM\"]))\n          ^^^^^^^^^^^^^^^^^^^^^^^^^^^^^^^^^^^^^^^^^^^^^^^^^^^\n  File \"C:\\Users\\Voxel\\Desktop\\Tango_Device\\Tango-Newport_AG_UC8\\tango-env\\Lib\\site-packages\\qcodes\\instrument\\instrument_meta.py\", line 36, in __call__\n    new_inst = super().__call__(*args, **kwargs)\n               ^^^^^^^^^^^^^^^^^^^^^^^^^^^^^^^^^\n  File \"C:\\Users\\Voxel\\Desktop\\Tango_Device\\Tango-Newport_AG_UC8\\tango-env\\Lib\\site-packages\\qcodes_contrib_drivers\\drivers\\Newport\\AG_UC8.py\", line 267, in __init__\n    super().__init__(name,\n  File \"C:\\Users\\Voxel\\Desktop\\Tango_Device\\Tango-Newport_AG_UC8\\tango-env\\Lib\\site-packages\\qcodes\\instrument\\visa.py\", line 132, in __init__\n    visa_handle, visabackend, resource_manager = self._connect_and_handle_error(\n                                                 ^^^^^^^^^^^^^^^^^^^^^^^^^^^^^^^\n  File \"C:\\Users\\Voxel\\Desktop\\Tango_Device\\Tango-Newport_AG_UC8\\tango-env\\Lib\\site-packages\\qcodes\\instrument\\visa.py\", line 165, in _connect_and_handle_error\n    raise e\n  File \"C:\\Users\\Voxel\\Desktop\\Tango_Device\\Tango-Newport_AG_UC8\\tango-env\\Lib\\site-packages\\qcodes\\instrument\\visa.py\", line 159, in _connect_and_handle_error\n    visa_handle, visabackend, resource_manager = self._open_resource(\n                                                 ^^^^^^^^^^^^^^^^^^^^\n  File \"C:\\Users\\Voxel\\Desktop\\Tango_Device\\Tango-Newport_AG_UC8\\tango-env\\Lib\\site-packages\\qcodes\\instrument\\visa.py\", line 188, in _open_resource\n    resource = resource_manager.open_resource(address)\n               ^^^^^^^^^^^^^^^^^^^^^^^^^^^^^^^^^^^^^^^\n  File \"C:\\Users\\Voxel\\Desktop\\Tango_Device\\Tango-Newport_AG_UC8\\tango-env\\Lib\\site-packages\\pyvisa\\highlevel.py\", line 3292, in open_resource\n    res.open(access_mode, open_timeout)\n  File \"C:\\Users\\Voxel\\Desktop\\Tango_Device\\Tango-Newport_AG_UC8\\tango-env\\Lib\\site-packages\\pyvisa\\resources\\resource.py\", line 281, in open\n    self.session, status = self._resource_manager.open_bare_resource(\n                           ^^^^^^^^^^^^^^^^^^^^^^^^^^^^^^^^^^^^^^^^^^\n  File \"C:\\Users\\Voxel\\Desktop\\Tango_Device\\Tango-Newport_AG_UC8\\tango-env\\Lib\\site-packages\\pyvisa\\highlevel.py\", line 3217, in open_bare_resource\n    return self.visalib.open(self.session, resource_name, access_mode, open_timeout)\n           ^^^^^^^^^^^^^^^^^^^^^^^^^^^^^^^^^^^^^^^^^^^^^^^^^^^^^^^^^^^^^^^^^^^^^^^^^\n  File \"C:\\Users\\Voxel\\Desktop\\Tango_Device\\Tango-Newport_AG_UC8\\tango-env\\Lib\\site-packages\\pyvisa_py\\highlevel.py\", line 168, in open\n    sess = cls(session, resource_name, parsed, open_timeout)\n           ^^^^^^^^^^^^^^^^^^^^^^^^^^^^^^^^^^^^^^^^^^^^^^^^^\n  File \"C:\\Users\\Voxel\\Desktop\\Tango_Device\\Tango-Newport_AG_UC8\\tango-env\\Lib\\site-packages\\pyvisa_py\\sessions.py\", line 322, in __init__\n    self.after_parsing()\n  File \"C:\\Users\\Voxel\\Desktop\\Tango_Device\\Tango-Newport_AG_UC8\\tango-env\\Lib\\site-packages\\pyvisa_py\\serial.py\", line 70, in after_parsing\n    self.interface = serial.serial_for_url(\n                     ^^^^^^^^^^^^^^^^^^^^^^\n  File \"C:\\Users\\Voxel\\Desktop\\Tango_Device\\Tango-Newport_AG_UC8\\tango-env\\Lib\\site-packages\\serial\\__init__.py\", line 90, in serial_for_url\n    instance.open()\n  File \"C:\\Users\\Voxel\\Desktop\\Tango_Device\\Tango-Newport_AG_UC8\\tango-env\\Lib\\site-packages\\serial\\serialwin32.py\", line 64, in open\n    raise SerialException(\"could not open port {!r}: {!r}\".format(self.portstr, ctypes.WinError()))\nserial.serialutil.SerialException: could not open port 'COM6': PermissionError(13, 'Access is denied.', None, 5)\n\n  reason = PyDs_PythonError\nseverity = ERR]\n\nDevError[\n    desc = Failed to execute command_inout on device voxel/ag_uc8/1, command Connect\n  origin = class Tango::DeviceData __cdecl Tango::Connection::command_inout(const class std::basic_string<char,struct std::char_traits<char>,class std::allocator<char> > &,const class Tango::DeviceData &) at (C:\\GitLab-Runner\\builds\\tango-controls\\cppTango\\src\\client\\devapi_base.cpp:1334)\n  reason = API_CommandFailed\nseverity = ERR]\n]"
     ]
    }
   ],
   "source": [
    "AG_UC8 = {\n",
    "            \"Name\"      : \"Controller_1\",\n",
    "            \"COM\"       : 6,   \n",
    "         }\n",
    "\n",
    "AG_UC8 = json.dumps(AG_UC8)\n",
    "print(N_AG_UC8.Connect(AG_UC8))"
   ]
  },
  {
   "cell_type": "code",
   "execution_count": 65,
   "metadata": {},
   "outputs": [
    {
     "data": {
      "text/plain": [
       "True"
      ]
     },
     "execution_count": 65,
     "metadata": {},
     "output_type": "execute_result"
    }
   ],
   "source": [
    "userinfoS =   {\n",
    "                            \"Name\"      : \"Controller_1\",\n",
    "                            \"Channel\"   : 1,\n",
    "                            \"Axis\"      : 1 \n",
    "                        }\n",
    "\n",
    "userinfoS = json.dumps(userinfoS)\n",
    "N_AG_UC8.StatusMotor(userinfoS) == \"ready\""
   ]
  },
  {
   "cell_type": "markdown",
   "metadata": {},
   "source": [
    "#### Test the Chanels 2 - neste momento o espelho tip tilt da Agilis"
   ]
  },
  {
   "cell_type": "code",
   "execution_count": 66,
   "metadata": {},
   "outputs": [],
   "source": [
    "# tilt_1_max_movimento_0_t0 = 6*2000\n",
    "# tilt_2_max_movimento_0_t0 = 7*2000\n",
    "# tilt_info = {\n",
    "            #  \"Name\"      : \"Controller_1\",\n",
    "            #  \"Channel\"   : 2,\n",
    "            #  \"Axis\"      : 2,\n",
    "            #  \"Position\"  :  0\n",
    "#         }\n",
    "\n",
    "# # tilt_info[\"Axis\"] = 1\n",
    "# # tilt_info[\"Position\"] = 3*2000\n",
    "# # til_sting = json.dumps(tilt_info)\n",
    "# # N_AG_UC8.MoveRel(til_sting)\n",
    "# # time.sleep(1)\n",
    "    \n",
    "# tilt_info[\"Axis\"] = 2\n",
    "# tilt_info[\"Position\"] = int(500)\n",
    "# til_sting = json.dumps(tilt_info)\n",
    "# N_AG_UC8.MoveRel(til_sting)"
   ]
  },
  {
   "cell_type": "code",
   "execution_count": 67,
   "metadata": {},
   "outputs": [],
   "source": [
    "# userinfoS_3 =   {\n",
    "#                             \"Name\"      : \"Controller_1\",\n",
    "#                             \"Channel\"   : 3,\n",
    "#                             \"Axis\"      : 1 \n",
    "#                         }\n",
    "\n",
    "\n",
    "\n",
    "\n",
    "\n",
    "\n",
    "\n",
    "\n",
    "# # N_AG_UC8.StatusMotor(userinfoS_3) == \"ready\"\n",
    "# userinfoS_3[\"Position\"] = int(-10)\n",
    "# string_3 = json.dumps(userinfoS_3)\n",
    "# N_AG_UC8.MoveRel(string_3)"
   ]
  },
  {
   "cell_type": "markdown",
   "metadata": {},
   "source": [
    "## Init the SMC100 Tango communication\n",
    "### Neste momento ligados aos eixos Newport MFA 1 2 e 3 (o 3 esta estragado)"
   ]
  },
  {
   "cell_type": "code",
   "execution_count": 68,
   "metadata": {},
   "outputs": [
    {
     "name": "stdout",
     "output_type": "stream",
     "text": [
      "ON\n"
     ]
    }
   ],
   "source": [
    "#insert motors' serial port to initialize connection with motors\n",
    "SMC100 = tango.DeviceProxy(\"voxel/SMC100/1\")\n",
    "print(SMC100.state())\n",
    "SMC100.set_timeout_millis(120000)"
   ]
  },
  {
   "cell_type": "markdown",
   "metadata": {},
   "source": [
    "### Importante se o Kernel rebentar não correr esta linha abaixo"
   ]
  },
  {
   "cell_type": "code",
   "execution_count": 69,
   "metadata": {},
   "outputs": [
    {
     "data": {
      "text/plain": [
       "'Could not connect to the Controller'"
      ]
     },
     "execution_count": 69,
     "metadata": {},
     "output_type": "execute_result"
    }
   ],
   "source": [
    "userInfoController =  {\n",
    "                            \"Name\"                  : \"SC1\",\n",
    "                            \"COM\"                   : 5,\n",
    "                            \"Number_of_controllers\" : 3\n",
    "                        }\n",
    "userInfoController=json.dumps(userInfoController)\n",
    "SMC100.ConnectCamera(userInfoController)"
   ]
  },
  {
   "cell_type": "markdown",
   "metadata": {},
   "source": [
    "### Comando para fazer HOME ao motor MFA"
   ]
  },
  {
   "cell_type": "code",
   "execution_count": 70,
   "metadata": {},
   "outputs": [
    {
     "name": "stdout",
     "output_type": "stream",
     "text": [
      "Position MFA 3:Motor was moved to the Home.\n"
     ]
    }
   ],
   "source": [
    "userInfoH = {\n",
    "                        \"Name\"              : \"SC1\",\n",
    "                        \"Axis\"              : 3,\n",
    "                        \"Wait_to_finish\"    : True\n",
    "                     }\n",
    "userInfoP_String = json.dumps(userInfoH)\n",
    "current_position_z = SMC100.Home(userInfoP_String)\n",
    "print(\"Position MFA 3:\"+str(current_position_z))"
   ]
  },
  {
   "cell_type": "markdown",
   "metadata": {},
   "source": [
    "## Init the Thorlabs Camera Tango communication"
   ]
  },
  {
   "cell_type": "code",
   "execution_count": 71,
   "metadata": {},
   "outputs": [
    {
     "name": "stdout",
     "output_type": "stream",
     "text": [
      "state: RUNNING\n"
     ]
    }
   ],
   "source": [
    "ThorlabsCamera =  tango.DeviceProxy(\"camera/thorlabs/zelux44\")\n",
    "print(\"state: \"+str(ThorlabsCamera.state()))\n",
    "ThorlabsCamera.set_timeout_millis(9000)"
   ]
  },
  {
   "cell_type": "markdown",
   "metadata": {},
   "source": [
    "### Need to change parameters of the camera using this function"
   ]
  },
  {
   "cell_type": "code",
   "execution_count": 72,
   "metadata": {},
   "outputs": [
    {
     "data": {
      "text/plain": [
       "['ExposureTime', 'Gain', 'FramesTrigger', 'ROI', 'Image', 'State', 'Status']"
      ]
     },
     "execution_count": 72,
     "metadata": {},
     "output_type": "execute_result"
    }
   ],
   "source": [
    "ThorlabsCamera.get_attribute_list()"
   ]
  },
  {
   "cell_type": "code",
   "execution_count": 73,
   "metadata": {},
   "outputs": [],
   "source": [
    "ThorlabsCamera.ExposureTime = 5000\n"
   ]
  },
  {
   "cell_type": "markdown",
   "metadata": {},
   "source": [
    "### Se o state da ThorlabsCamera estiver RUNNING não correr o StartAcqusition"
   ]
  },
  {
   "cell_type": "code",
   "execution_count": 74,
   "metadata": {},
   "outputs": [
    {
     "data": {
      "text/plain": [
       "''"
      ]
     },
     "execution_count": 74,
     "metadata": {},
     "output_type": "execute_result"
    }
   ],
   "source": [
    "ThorlabsCamera.StartAcqusition()"
   ]
  },
  {
   "cell_type": "code",
   "execution_count": 75,
   "metadata": {},
   "outputs": [],
   "source": [
    "ThorlabsCamera.StopAcqusition()"
   ]
  },
  {
   "cell_type": "code",
   "execution_count": 76,
   "metadata": {},
   "outputs": [
    {
     "data": {
      "text/plain": [
       "<matplotlib.colorbar.Colorbar at 0x1e9a8190e60>"
      ]
     },
     "execution_count": 76,
     "metadata": {},
     "output_type": "execute_result"
    },
    {
     "data": {
      "image/png": "[encoded data removed]",
      "text/plain": [
       "<Figure size 640x480 with 2 Axes>"
      ]
     },
     "metadata": {},
     "output_type": "display_data"
    }
   ],
   "source": [
    "#ThorlabsCamera.Snap()\n",
    "plt.imshow(ThorlabsCamera.Image,cmap=\"grey\")\n",
    "plt.colorbar()"
   ]
  },
  {
   "cell_type": "markdown",
   "metadata": {},
   "source": [
    "# Standa Motor"
   ]
  },
  {
   "cell_type": "code",
   "execution_count": 77,
   "metadata": {},
   "outputs": [
    {
     "name": "stdout",
     "output_type": "stream",
     "text": [
      "ON\n"
     ]
    }
   ],
   "source": [
    "Standa = tango.DeviceProxy(\"voxel/StandaM/1\")\n",
    "print(Standa.state())\n",
    "Standa.set_timeout_millis(120000)"
   ]
  },
  {
   "cell_type": "code",
   "execution_count": 78,
   "metadata": {},
   "outputs": [
    {
     "data": {
      "text/plain": [
       "['Init', 'State', 'Status', 'connection', 'get_list_diveces', 'get_position', 'move_calibrat', 'move_to', 'relative_shift', 'set_device', 'set_device_as_virtual', 'set_user_unit', 'set_zero']"
      ]
     },
     "execution_count": 78,
     "metadata": {},
     "output_type": "execute_result"
    }
   ],
   "source": [
    "Standa.get_command_list()"
   ]
  },
  {
   "cell_type": "markdown",
   "metadata": {},
   "source": [
    "Atençao, neste momento: aqui estao os motores device  1742628097 (esta usado na experiencia de optimizacao no COM 8) e o 32 ligado a translacionadores do Pablo no COM3\n",
    "O Pedro vai eventualmente standardizar os nomes dos motores"
   ]
  },
  {
   "cell_type": "code",
   "execution_count": 79,
   "metadata": {},
   "outputs": [
    {
     "data": {
      "text/plain": [
       "\"Dice found: {'uri': 'xi-com:\\\\\\\\\\\\\\\\.\\\\\\\\COM10', 'device_serial': 3731028928, 'Manufacturer': '', 'ManufacturerId': '', 'ProductDescription': '', 'Major': 0, 'Minor': 0, 'Release': 0, 'ControllerName': '', 'CtrlFlags': 0, 'PositionerName': ''}\\t{'uri': 'xi-com:\\\\\\\\\\\\\\\\.\\\\\\\\COM9', 'device_serial': 704, 'Manufacturer': '', 'ManufacturerId': '', 'ProductDescription': '', 'Major': 0, 'Minor': 0, 'Release': 0, 'ControllerName': '', 'CtrlFlags': 0, 'PositionerName': ''}\\t\""
      ]
     },
     "execution_count": 79,
     "metadata": {},
     "output_type": "execute_result"
    }
   ],
   "source": [
    "Standa.get_list_diveces()"
   ]
  },
  {
   "cell_type": "markdown",
   "metadata": {},
   "source": [
    "### Importante se o Kernel rebentar não correr esta linha abaixo"
   ]
  },
  {
   "cell_type": "code",
   "execution_count": 80,
   "metadata": {},
   "outputs": [
    {
     "data": {
      "text/plain": [
       "'it was selected the device 8'"
      ]
     },
     "execution_count": 80,
     "metadata": {},
     "output_type": "execute_result"
    }
   ],
   "source": [
    "Standa.set_device('8')"
   ]
  },
  {
   "cell_type": "markdown",
   "metadata": {},
   "source": [
    "### Importante se o Kernel rebentar não correr esta linha abaixo"
   ]
  },
  {
   "cell_type": "code",
   "execution_count": 81,
   "metadata": {},
   "outputs": [
    {
     "data": {
      "text/plain": [
       "'Problem on open_connection'"
      ]
     },
     "execution_count": 81,
     "metadata": {},
     "output_type": "execute_result"
    }
   ],
   "source": [
    "Standa.connection(\"open\")"
   ]
  },
  {
   "cell_type": "code",
   "execution_count": 82,
   "metadata": {},
   "outputs": [
    {
     "name": "stdout",
     "output_type": "stream",
     "text": [
      "ON\n"
     ]
    }
   ],
   "source": [
    "Standa_Vac_1 = tango.DeviceProxy(\"motor/standa/vacaxis1\")\n",
    "print(Standa_Vac_1.state())\n",
    "Standa_Vac_1.set_timeout_millis(100000)"
   ]
  },
  {
   "cell_type": "markdown",
   "metadata": {},
   "source": [
    "### Importante se o Kernel rebentar não correr esta linha abaixo"
   ]
  },
  {
   "cell_type": "code",
   "execution_count": 83,
   "metadata": {},
   "outputs": [
    {
     "data": {
      "text/plain": [
       "'it was selected the device 9'"
      ]
     },
     "execution_count": 83,
     "metadata": {},
     "output_type": "execute_result"
    }
   ],
   "source": [
    "Standa_Vac_1.set_device('9')"
   ]
  },
  {
   "cell_type": "markdown",
   "metadata": {},
   "source": [
    "### Importante se o Kernel rebentar não correr esta linha abaixo"
   ]
  },
  {
   "cell_type": "code",
   "execution_count": 84,
   "metadata": {},
   "outputs": [
    {
     "data": {
      "text/plain": [
       "'Connection established'"
      ]
     },
     "execution_count": 84,
     "metadata": {},
     "output_type": "execute_result"
    }
   ],
   "source": [
    "Standa_Vac_1.connection(\"open\")"
   ]
  },
  {
   "cell_type": "code",
   "execution_count": 85,
   "metadata": {},
   "outputs": [
    {
     "name": "stdout",
     "output_type": "stream",
     "text": [
      "ON\n"
     ]
    }
   ],
   "source": [
    "Standa_Vac_2 = tango.DeviceProxy(\"motor/standa/vacaxis2\")\n",
    "print(Standa_Vac_2.state())\n",
    "Standa_Vac_2.set_timeout_millis(120000)"
   ]
  },
  {
   "cell_type": "markdown",
   "metadata": {},
   "source": [
    "### Importante se o Kernel rebentar não correr esta linha abaixo"
   ]
  },
  {
   "cell_type": "code",
   "execution_count": 86,
   "metadata": {},
   "outputs": [
    {
     "data": {
      "text/plain": [
       "'it was selected the device 10'"
      ]
     },
     "execution_count": 86,
     "metadata": {},
     "output_type": "execute_result"
    }
   ],
   "source": [
    "Standa_Vac_2.set_device('10')"
   ]
  },
  {
   "cell_type": "markdown",
   "metadata": {},
   "source": [
    "### Importante se o Kernel rebentar não correr esta linha abaixo"
   ]
  },
  {
   "cell_type": "code",
   "execution_count": 87,
   "metadata": {},
   "outputs": [
    {
     "data": {
      "text/plain": [
       "'Connection established'"
      ]
     },
     "execution_count": 87,
     "metadata": {},
     "output_type": "execute_result"
    }
   ],
   "source": [
    "Standa_Vac_2.connection(\"open\")"
   ]
  },
  {
   "cell_type": "markdown",
   "metadata": {},
   "source": [
    "# MiniPIX TPX3"
   ]
  },
  {
   "cell_type": "code",
   "execution_count": 22,
   "metadata": {},
   "outputs": [
    {
     "name": "stdout",
     "output_type": "stream",
     "text": [
      "UNKNOWN\n"
     ]
    }
   ],
   "source": [
    "MiniPIX = tango.DeviceProxy(\"detector/minipix/tpx3\")\n",
    "print(MiniPIX.state())\n",
    "MiniPIX.set_timeout_millis(120000)"
   ]
  },
  {
   "cell_type": "code",
   "execution_count": 24,
   "metadata": {},
   "outputs": [
    {
     "data": {
      "text/plain": [
       "1"
      ]
     },
     "execution_count": 24,
     "metadata": {},
     "output_type": "execute_result"
    }
   ],
   "source": [
    "MiniPIX.ExposureTime = 2"
   ]
  },
  {
   "cell_type": "code",
   "execution_count": 23,
   "metadata": {},
   "outputs": [
    {
     "data": {
      "text/plain": [
       "<matplotlib.image.AxesImage at 0x182a9556ed0>"
      ]
     },
     "execution_count": 23,
     "metadata": {},
     "output_type": "execute_result"
    },
    {
     "data": {
      "image/png": "[encoded data removed]",
      "text/plain": [
       "<Figure size 640x480 with 1 Axes>"
      ]
     },
     "metadata": {},
     "output_type": "display_data"
    }
   ],
   "source": [
    "plt.imshow(MiniPIX.Image,cmap=\"grey\")"
   ]
  },
  {
   "cell_type": "markdown",
   "metadata": {},
   "source": [
    "### Function that recives the Coord and send it to te Controller via Tango"
   ]
  },
  {
   "cell_type": "code",
   "execution_count": 18,
   "metadata": {},
   "outputs": [],
   "source": [
    "import json\n",
    "userInfoP = {\n",
    "                \"Name\" : \"SC1\",\n",
    "                \"Axis\" : MFA_1_AXEIS\n",
    "            }\n",
    "def MoveToPosition(coords):\n",
    "    userInfoP[\"Axis\"] = MFA_1_AXEIS\n",
    "    # print(userInfoP)\n",
    "    userInfoP_String = json.dumps(userInfoP)\n",
    "    current_position_x = SMC100.GetPosition(userInfoP_String)\n",
    "    # print(\"Position MFA 1:\"+str(current_position_x))\n",
    "    userInfoP[\"Axis\"] = MFA_2_AXEIS\n",
    "    userInfoP_String = json.dumps(userInfoP)\n",
    "    current_position_y = SMC100.GetPosition(userInfoP_String)\n",
    "    # print(\"Position MFA 2:\"+str(current_position_y))\n",
    "    userInfoP[\"Axis\"] = MFA_3_AXEIS\n",
    "    userInfoP_String = json.dumps(userInfoP)\n",
    "    current_position_z = SMC100.GetPosition(userInfoP_String)\n",
    "    # print(\"Position MFA 3:\"+str(current_position_z))\n",
    "\n",
    "    # print(current_position_x)\n",
    "    # print(current_position_y)\n",
    "\n",
    "    userInfoMA =    {\n",
    "                        \"Name\"              : \"SC1\",\n",
    "                        \"Axis\"              : MFA_1_AXEIS,\n",
    "                        \"Position\"          : 5,\n",
    "                        \"Wait_to_finish\"    : True\n",
    "                    }\n",
    "    # print(len(coords))\n",
    "    if len(coords) == 3:\n",
    "\n",
    "        if coords[0] != current_position_x:\n",
    "            userInfoMA[\"Axis\"] = MFA_1_AXEIS\n",
    "            userInfoMA[\"Position\"] = coords[0]\n",
    "            userInfoMA_string = json.dumps(userInfoMA)\n",
    "            SMC100.MoveAbsolute_mm(userInfoMA_string)\n",
    "\n",
    "        if coords[1] != current_position_y:\n",
    "            \n",
    "            userInfoMA[\"Axis\"] = MFA_2_AXEIS\n",
    "            userInfoMA[\"Position\"] = coords[1]\n",
    "            userInfoMA_string = json.dumps(userInfoMA)\n",
    "            SMC100.MoveAbsolute_mm(userInfoMA_string)\n",
    "        \n",
    "        if coords[2] != current_position_z  :\n",
    "            if REAPER_MFA_3:\n",
    "                userInfoMA[\"Axis\"] = MFA_3_AXEIS\n",
    "                userInfoMA[\"Position\"] = coords[2]\n",
    "                userInfoMA_string = json.dumps(userInfoMA)\n",
    "                SMC100.MoveAbsolute_mm(userInfoMA_string)\n",
    "            else:\n",
    "                print(\"The moto MFA 3 is damaged!! Pls do not use it, or check with someone \")\n",
    "\n",
    "    else:\n",
    "        print(\"Error: Wrong input. Please insert a position to which you want to move as x, y, z\",\n",
    "            \"(e.g. the input of 1.2, 3.3 will move the motors to a position where x=1.2 mm and y=3.3 mm)\")"
   ]
  },
  {
   "cell_type": "markdown",
   "metadata": {},
   "source": [
    "Simple test of the movement of the motors "
   ]
  },
  {
   "cell_type": "code",
   "execution_count": 101,
   "metadata": {},
   "outputs": [],
   "source": [
    "#run to make a move to a desired position\n",
    "\n",
    "a = input(\"insert a desired position [mm] as a pair x, y, z: \") \n",
    "coords = list(float(x) for x in a.split(\",\"))\n",
    "MoveToPosition(coords)\n",
    "\n"
   ]
  },
  {
   "cell_type": "code",
   "execution_count": 39,
   "metadata": {},
   "outputs": [],
   "source": [
    "# userInfoMA =    {\n",
    "#                     \"Name\"              : \"SC1\",\n",
    "#                     \"Axis\"              : MFA_2_AXEIS,\n",
    "#                     \"Position\"          : 5,\n",
    "#                     \"Wait_to_finish\"    : True\n",
    "#                 }\n",
    "# userInfoMA[\"Axis\"] = MFA_2_AXEIS\n",
    "# userInfoMA[\"Position\"] = 1\n",
    "# userInfoMA_string = json.dumps(userInfoMA)\n",
    "# SMC100.MoveAbsolute_mm(userInfoMA_string)"
   ]
  },
  {
   "cell_type": "markdown",
   "metadata": {},
   "source": [
    "Read the current motor positions"
   ]
  },
  {
   "cell_type": "code",
   "execution_count": 22,
   "metadata": {},
   "outputs": [
    {
     "name": "stdout",
     "output_type": "stream",
     "text": [
      "Position MFA 3:54.8199\n"
     ]
    }
   ],
   "source": [
    "# # this is the broken motor!\n",
    "# #if youwant to use MoveToPosition, be sure to introduce this coordinate\n",
    "\n",
    "userInfoP[\"Axis\"] = MFA_3_AXEIS\n",
    "userInfoP_String = json.dumps(userInfoP)\n",
    "current_position_z = SMC100.GetPosition(userInfoP_String)\n",
    "print(\"Position MFA 3:\"+str(current_position_z))"
   ]
  },
  {
   "cell_type": "code",
   "execution_count": 23,
   "metadata": {},
   "outputs": [
    {
     "name": "stdout",
     "output_type": "stream",
     "text": [
      "Position MFA 2:5.0\n"
     ]
    }
   ],
   "source": [
    "# # This motor is currently horizontal movement transverse to optical axis\n",
    "\n",
    "userInfoP[\"Axis\"] = MFA_2_AXEIS\n",
    "userInfoP_String = json.dumps(userInfoP)\n",
    "current_position_x = SMC100.GetPosition(userInfoP_String)\n",
    "print(\"Position MFA 2:\"+str(current_position_x))"
   ]
  },
  {
   "cell_type": "code",
   "execution_count": 24,
   "metadata": {},
   "outputs": [
    {
     "name": "stdout",
     "output_type": "stream",
     "text": [
      "Position MFA 1:2.5\n"
     ]
    }
   ],
   "source": [
    "# # This motor is currently set to mov along the optical axis\n",
    "userInfoP[\"Axis\"] = MFA_1_AXEIS\n",
    "userInfoP_String = json.dumps(userInfoP)\n",
    "current_position_y = SMC100.GetPosition(userInfoP_String)\n",
    "print(\"Position MFA 1:\"+str(current_position_y))"
   ]
  },
  {
   "cell_type": "markdown",
   "metadata": {},
   "source": [
    "# The experiment code "
   ]
  },
  {
   "cell_type": "code",
   "execution_count": 267,
   "metadata": {},
   "outputs": [],
   "source": [
    "polaroide_info = {\n",
    "            \"Name\"      : \"Controller_1\",\n",
    "            \"Channel\"   : 1,\n",
    "            \"Axis\"      : 1,\n",
    "            \"Position\"  : 0\n",
    "        }\n",
    "tilt_info = {\n",
    "            \"Name\"      : \"Controller_1\",\n",
    "            \"Channel\"   : 2,\n",
    "            \"Axis\"      : 2,\n",
    "            \"Position\"  :  0\n",
    "        }\n",
    "Device_to_Open =    {\n",
    "                        \"Name\"      : \"AS1\"\n",
    "                    }\n",
    "\n",
    "userinfoS_pol =   {\n",
    "                            \"Name\"      : \"Controller_1\",\n",
    "                            \"Channel\"   : 1,\n",
    "                            \"Axis\"      : 1 \n",
    "                        }\n",
    "userinfoS_til1 =   {\n",
    "                            \"Name\"      : \"Controller_1\",\n",
    "                            \"Channel\"   : 2,\n",
    "                            \"Axis\"      : 1 \n",
    "                        }\n",
    "userinfoS_til2 =   {\n",
    "                            \"Name\"      : \"Controller_1\",\n",
    "                            \"Channel\"   : 2,\n",
    "                            \"Axis\"      : 2 \n",
    "                        }\n",
    "\n",
    "KDF =   {\n",
    "                            \"Name\"      : \"Controller_1\",\n",
    "                            \"Channel\"   : 3,\n",
    "                            \"Axis\"      : 1 \n",
    "                        }\n",
    "\n",
    "userinfoS_pol = json.dumps(userinfoS_pol)\n",
    "userinfoS_til1 = json.dumps(userinfoS_til1)\n",
    "userinfoS_til2 = json.dumps(userinfoS_til2)\n",
    "userinfoKDF_info= json.dumps(KDF)\n",
    "\n",
    "Device_to_Open_string = json.dumps(Device_to_Open)\n",
    "\n",
    "\n",
    "\n",
    "def function_experiment(polaroide,open_Iris,tilt_1,tilt_2,KDF_3,move_MFA_1,move_MFA_2,move_MFA_3,area=[[120,800],[350,1100]]):\n",
    "    # Move the Polaroide piezo motor\n",
    "    global polaroide_position\n",
    "    global tilt_1_position\n",
    "    global tilt_2_position\n",
    "    global KDF_position\n",
    "\n",
    "    time_waiting = 1\n",
    "    \n",
    "    polaroide_delta = polaroide - polaroide_position \n",
    "    tilt_1_delta  =  tilt_1 - tilt_1_position  \n",
    "    tilt_2_delta  = tilt_2 - tilt_2_position \n",
    "    KDF_delta  = KDF_3 - KDF_position \n",
    "    \n",
    "    polaroide_position = polaroide\n",
    "    tilt_1_position  = tilt_1\n",
    "    tilt_2_position  = tilt_2  \n",
    "    KDF_position = KDF_3\n",
    "\n",
    "    print(str(polaroide)+\" \"+str(open_Iris)+\" \"+str(tilt_1)+\" \"+str(tilt_2)+\" \"+str(KDF_3)+\" \"+str(move_MFA_1)+\" \"+str(move_MFA_2)+\" \"+str(move_MFA_3))\n",
    "\n",
    "    if polaroide_delta != 0:\n",
    "        polaroide_info[\"Position\"]=polaroide_delta\n",
    "        polaroide_string = json.dumps(polaroide_info)\n",
    "        N_AG_UC8.MoveRel(polaroide_string)\n",
    "        time.sleep(time_waiting)\n",
    "        polaroide_MOVING = (N_AG_UC8.StatusMotor(userinfoS_pol) != \"ready\")\n",
    "        # print(N_AG_UC8.StatusMotor(userinfoS_pol))\n",
    "        # print(polaroide_MOVING)\n",
    "    else:\n",
    "        polaroide_MOVING = False\n",
    "\n",
    "\n",
    "\n",
    "    # This divece wait of the stop comand\n",
    "    Standa.move_to(open_Iris)\n",
    "    \n",
    "    if tilt_1_delta != 0:\n",
    "        print(tilt_1_delta)\n",
    "        tilt_info[\"Axis\"] = 1\n",
    "        tilt_info[\"Position\"] = tilt_1_delta\n",
    "        til_sting = json.dumps(tilt_info)\n",
    "        time.sleep(time_waiting)\n",
    "        N_AG_UC8.MoveRel(til_sting)\n",
    "        time.sleep(time_waiting)\n",
    "        tilt_info_m_1 = N_AG_UC8.StatusMotor(userinfoS_til1) != \"ready\"\n",
    "    else:\n",
    "        tilt_info_m_1 = False\n",
    "        \n",
    "    if tilt_2_delta != 0:\n",
    "        tilt_info[\"Axis\"] = 2\n",
    "        tilt_info[\"Position\"] = tilt_2_delta\n",
    "        til_sting = json.dumps(tilt_info)\n",
    "        time.sleep(time_waiting)\n",
    "        N_AG_UC8.MoveRel(til_sting)\n",
    "        time.sleep(time_waiting)\n",
    "        tilt_info_m_2 = N_AG_UC8.StatusMotor(userinfoS_til2) != \"ready\"\n",
    "    else:   \n",
    "        tilt_info_m_2 = False\n",
    "        \n",
    "    if tilt_1_delta != 0 or tilt_2_delta != 0:\n",
    "        \n",
    "        time.sleep(time_waiting)\n",
    "        tilt_info_m_1 = N_AG_UC8.StatusMotor(userinfoS_til1) != \"ready\"\n",
    "        time.sleep(time_waiting)\n",
    "        tilt_info_m_2 = N_AG_UC8.StatusMotor(userinfoS_til2) != \"ready\"\n",
    "        time.sleep(time_waiting)\n",
    "        tilt_MOVING = (tilt_info_m_1) or (tilt_info_m_2)\n",
    "    else:\n",
    "        tilt_MOVING = False\n",
    "\n",
    "    while polaroide_MOVING:\n",
    "        if polaroide_MOVING:\n",
    "            polaroide_MOVING = (N_AG_UC8.StatusMotor(userinfoS_pol) != \"ready\")\n",
    "        time.sleep(time_waiting)\n",
    "        \n",
    "    if KDF_delta != 0:\n",
    "        KDF[\"Position\"] = KDF_delta\n",
    "        til_sting = json.dumps(KDF)\n",
    "        N_AG_UC8.MoveRel(til_sting)\n",
    "        time.sleep(time_waiting)\n",
    "        KDF_info_m = N_AG_UC8.StatusMotor(userinfoKDF_info) != \"ready\"\n",
    "    else:\n",
    "        KDF_info_m = False\n",
    "        \n",
    "    # print(N_AG_UC8.StatusMotor(userinfoS_til1))\n",
    "    \n",
    "    # print(N_AG_UC8.StatusMotor(userinfoS_til2))\n",
    "    # print(tilt_MOVING)\n",
    "    \n",
    "\n",
    "    MoveToPosition([move_MFA_1,move_MFA_2,move_MFA_3])\n",
    "\n",
    "    while polaroide_MOVING or tilt_MOVING or KDF_info_m:\n",
    "        if polaroide_MOVING:\n",
    "            polaroide_MOVING = (N_AG_UC8.StatusMotor(userinfoS_pol) != \"ready\")\n",
    "            time.sleep(time_waiting)\n",
    "        if tilt_info_m_1: \n",
    "            tilt_info_m_1 = N_AG_UC8.StatusMotor(userinfoS_til1) != \"ready\"\n",
    "            time.sleep(time_waiting)\n",
    "        if tilt_info_m_2:\n",
    "            tilt_info_m_2 = N_AG_UC8.StatusMotor(userinfoS_til2) != \"ready\"\n",
    "            time.sleep(time_waiting)\n",
    "        if KDF_info_m:\n",
    "            KDF_info_m = N_AG_UC8.StatusMotor(userinfoKDF_info) != \"ready\"\n",
    "        tilt_MOVING = (tilt_info_m_1) or (tilt_info_m_2)\n",
    "        time.sleep(time_waiting)\n",
    "\n",
    "    Arduino_Shutter.OpenShutter(Device_to_Open_string)\n",
    "    ThorlabsCamera.Snap()\n",
    "    Arduino_Shutter.CloseShutter(Device_to_Open_string)\n",
    "    Image_to_evalute = ThorlabsCamera.Image\n",
    "    # plt.imshow(Image_to_evalute,cmap=\"grey\")\n",
    "    # plt.colorbar()\n",
    "    # plt.show()\n",
    "\n",
    "    area_of_study = Image_to_evalute[area[0][0]:area[0][1],area[1][0]:area[1][1]]\n",
    "    val = -1* np.mean(area_of_study)\n",
    "\n",
    "    polaroide_position = polaroide\n",
    "    tilt_1_position  = tilt_1\n",
    "    tilt_2_position  = tilt_2  \n",
    "    KDF_position = KDF_3\n",
    "\n",
    "    return val, Image_to_evalute, area_of_study\n",
    "    \n"
   ]
  },
  {
   "cell_type": "code",
   "execution_count": null,
   "metadata": {},
   "outputs": [],
   "source": [
    "Standa.move_to(150)"
   ]
  },
  {
   "cell_type": "code",
   "execution_count": 45,
   "metadata": {},
   "outputs": [
    {
     "data": {
      "text/plain": [
       "'Position: 10000\\nuPosition: 0\\nEncPosition: 10000\\n'"
      ]
     },
     "execution_count": 45,
     "metadata": {},
     "output_type": "execute_result"
    }
   ],
   "source": [
    "Standa_Vac_2.get_position()"
   ]
  },
  {
   "cell_type": "code",
   "execution_count": 53,
   "metadata": {},
   "outputs": [
    {
     "data": {
      "text/plain": [
       "'Stop moving at 860642'"
      ]
     },
     "execution_count": 53,
     "metadata": {},
     "output_type": "execute_result"
    }
   ],
   "source": [
    "Standa_Vac_2.move_to(1000000)"
   ]
  },
  {
   "cell_type": "markdown",
   "metadata": {},
   "source": [
    "# Conjunto de movimentos para a optimização"
   ]
  },
  {
   "cell_type": "code",
   "execution_count": null,
   "metadata": {},
   "outputs": [],
   "source": [
    "polaroide = 20000\n",
    "open_Iris = 368 \n",
    "tilt_1 = 0\n",
    "tilt_2 = 0\n",
    "KDF_p = 0\n",
    "move_MFA_1 = 8\n",
    "move_MFA_2 = 3\n",
    "move_MFA_3 = 0 # motor not avaible is going to be repear\n",
    "area=[[600,800],\\\n",
    "      [750,1100]]\n",
    "mean,full_image,area_of_study = function_experiment(polaroide,open_Iris,tilt_1,tilt_2,KDF_p,move_MFA_1,move_MFA_2,move_MFA_3,area)"
   ]
  },
  {
   "cell_type": "code",
   "execution_count": null,
   "metadata": {},
   "outputs": [],
   "source": [
    "print(\"Mean :\"+str(mean))\n",
    "plt.imshow(full_image,cmap=\"grey\")\n",
    "plt.colorbar()\n",
    "plt.show()\n",
    "plt.imshow(area_of_study,cmap=\"grey\",extent=[area[1][0],area[1][1],area[0][1],area[0][0]])\n",
    "# plt.set_xlabel([80,122]) # range of values in edges\n",
    "plt.colorbar()\n",
    "plt.show()\n",
    "print(open_Iris)"
   ]
  },
  {
   "cell_type": "code",
   "execution_count": null,
   "metadata": {},
   "outputs": [],
   "source": [
    "# %matplotlib inline\n",
    "# import time\n",
    "# import pylab as pl\n",
    "# from IPython import display\n",
    "# x=0\n",
    "# mean_array = []\n",
    "# full_image_array=[]\n",
    "# area_of_study_array = []\n",
    "# for i in range(850,1500,15):\n",
    "#     mean,full_image,area_of_study = function_experiment(polaroide,i,6000,6000,move_MFA_1,move_MFA_2,move_MFA_3,area)\n",
    "#     pl.plot(i,mean,\"xr\")\n",
    "#     mean_array.append(mean)\n",
    "#     full_image_array.append(full_image)\n",
    "#     area_of_study_array.append(area_of_study)\n",
    "#     x=x+1\n",
    "#     display.clear_output(wait=True)\n",
    "#     display.display(pl.gcf())\n",
    "\n",
    "# display.clear_output(wait=True)"
   ]
  },
  {
   "cell_type": "code",
   "execution_count": null,
   "metadata": {},
   "outputs": [],
   "source": [
    "import cma\n",
    "import pickle\n",
    "%matplotlib inline\n",
    "import time\n",
    "import pylab as pl\n",
    "from IPython import display\n",
    "from datetime import datetime\n",
    "\n",
    "# datetime object containing current date and time\n",
    "now = datetime.now()\n",
    "x_plot=0\n",
    "image_save = []\n",
    "'''\n",
    "arg \n",
    "Mude este comentario a medida que sejam feitas mudanças\n",
    "sao:\n",
    "0 - polaroide\n",
    "1 - open_Iris\n",
    "tilt_1\n",
    "tilt_2\n",
    "KDF_p\n",
    "move_MFA_1\n",
    "move_MFA_2\n",
    "move_MFA_3\n",
    "'''\n",
    "\n",
    "def fitness(arg):\n",
    "    # print(arg)\n",
    "    polaroide = int(arg[0])\n",
    "    open_Iris = int(arg[1])\n",
    "    tilt_1 = 0#int(arg[2])\n",
    "    tilt_2 = 0#int(arg[3])\n",
    "    KDF_p = 0#int(arg[2])\n",
    "    move_MFA_1 = round(arg[2],2)\n",
    "    move_MFA_2 = round(arg[3],2)\n",
    "    move_MFA_3 = 0\n",
    "    area=[[600,800],\\\n",
    "      [750,1100]]\n",
    "    mean,full_image,area_of_study = function_experiment(polaroide,open_Iris,tilt_1,tilt_2,KDF_p,move_MFA_1,move_MFA_2,move_MFA_3,area)\n",
    "    image_save.append(area_of_study)\n",
    "    return mean\n",
    "\n",
    "bay_opt_name = 'filename'\n",
    "opts = cma.CMAOptions()\n",
    "# opts.set(\"bounds\", [[20000,200,-500,0,-1500,14.9,1], [50000, 1000 ,0,500,1500,15.1,6]])\n",
    "opts.set(\"bounds\", [[0,200,7.9,1], [40000, 1000 ,8.1,6]])\n",
    "\n",
    "# numero de testes de parametro \n",
    "opts.set('popsize', 25)\n",
    "opts.set('ftarget', -170)\n",
    "es = cma.CMAEvolutionStrategy([10000,250,8,3],50000, opts)\n",
    "dt_string = now.strftime(\"%d-%m-%Y_t_%H_%M_%S\")\n",
    "total_data = \"Iteracao\\tMean\\tpolaroide\\topen_Iris\\tmove_X\\tmove_Y\\n\\r\"\n",
    "\n",
    "while not es.stop():\n",
    "    X = es.ask()\n",
    "    f_values = np.zeros(len(X))\n",
    "    for i in range(len(X)):\n",
    "        # try:  \n",
    "        print(X[i])\n",
    "        f_values[i] = fitness(X[i])\n",
    "        pl.plot(i,f_values[i],\"xr\") \n",
    "        display.clear_output(wait=True)\n",
    "        display.display(pl.gcf())\n",
    "        data = str(i)+\"\\t\"+str(f_values[i])+\"\\t\"\n",
    "        for key in X[i]:\n",
    "            data += str(key)+\"\\t\"\n",
    "        \n",
    "        data += \"\\n\\r\"\n",
    "        print(data)\n",
    "        total_data +=data\n",
    "    es.tell(X, f_values)\n",
    "    es.disp()\n",
    "    es.logger.add()\n",
    "    total_data \n",
    "    # f.close()\n",
    "        \n",
    "    pickle.dump(es,open(\"C:\\\\Users\\\\Voxel\\\\Desktop\\\\HowTo\\\\Experiment_Example\\\\out.txt\",\"wb\"))\n",
    "    print(X)"
   ]
  },
  {
   "cell_type": "code",
   "execution_count": 349,
   "metadata": {},
   "outputs": [],
   "source": [
    "\n",
    "with open(\"__output_test.txt\", \"w\") as f:\n",
    "    f.write(total_data)"
   ]
  },
  {
   "cell_type": "code",
   "execution_count": null,
   "metadata": {},
   "outputs": [],
   "source": [
    "# importing pandas\n",
    "import pandas as pd\n",
    "\n",
    "# read text file into pandas DataFrame\n",
    "df = pd.read_csv(\"_output_test.txt\", sep=\"\\t\")\n",
    "\n",
    "# display DataFrame\n",
    "print(df[\"Iteracao\"].values)"
   ]
  },
  {
   "cell_type": "code",
   "execution_count": null,
   "metadata": {},
   "outputs": [],
   "source": [
    "plt.plot(df[\"Iteracao\"].values,\"xr\")\n",
    "plt.ylabel(\"Target Parameter\")\n",
    "plt.xlabel(\"Iteration\")"
   ]
  }
 ],
 "metadata": {
  "kernelspec": {
   "display_name": "Python 3",
   "language": "python",
   "name": "python3"
  },
  "language_info": {
   "codemirror_mode": {
    "name": "ipython",
    "version": 3
   },
   "file_extension": ".py",
   "mimetype": "text/x-python",
   "name": "python",
   "nbconvert_exporter": "python",
   "pygments_lexer": "ipython3",
   "version": "3.12.3"
  }
 },
 "nbformat": 4,
 "nbformat_minor": 2
}
