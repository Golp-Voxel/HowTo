{
 "cells": [
  {
   "cell_type": "code",
   "execution_count": 20,
   "metadata": {},
   "outputs": [],
   "source": [
    "import tango\n",
    "import cv2\n",
    "import json\n",
    "import numpy as np\n",
    "import matplotlib.pyplot as plt\n",
    "import time\n",
    "Z = 1\n",
    "X = 2\n",
    "Y = 3"
   ]
  },
  {
   "cell_type": "markdown",
   "metadata": {},
   "source": [
    "## Init the Shutter controlled by a Arduino Tango communication"
   ]
  },
  {
   "cell_type": "code",
   "execution_count": 24,
   "metadata": {},
   "outputs": [
    {
     "name": "stdout",
     "output_type": "stream",
     "text": [
      "ON\n"
     ]
    }
   ],
   "source": [
    "#insert arduino serial port to initialize connection with arduino\n",
    "import tango\n",
    "import json\n",
    "Arduino_Shutter = tango.DeviceProxy(\"voxel/Arduino_Shutter/1\")\n",
    "print(Arduino_Shutter.state())\n",
    "Arduino_Shutter.set_timeout_millis(10000)\n"
   ]
  },
  {
   "cell_type": "code",
   "execution_count": 26,
   "metadata": {},
   "outputs": [
    {
     "data": {
      "text/plain": [
       "'Device is connected'"
      ]
     },
     "execution_count": 26,
     "metadata": {},
     "output_type": "execute_result"
    }
   ],
   "source": [
    "ArduinoInfo =   {\n",
    "                    \"Name\"      : \"AS1\",\n",
    "                    \"COM\"       : 4\n",
    "                }\n",
    "ArduinoInfo = json.dumps(ArduinoInfo)\n",
    "Arduino_Shutter.Connect(ArduinoInfo)"
   ]
  },
  {
   "cell_type": "markdown",
   "metadata": {},
   "source": [
    "## Init the SMC100 Tango communication"
   ]
  },
  {
   "cell_type": "code",
   "execution_count": 45,
   "metadata": {},
   "outputs": [
    {
     "name": "stdout",
     "output_type": "stream",
     "text": [
      "ON\n"
     ]
    }
   ],
   "source": [
    "#insert motors' serial port to initialize connection with motors\n",
    "import tango\n",
    "import json\n",
    "SMC100 = tango.DeviceProxy(\"voxel/SMC100/1\")\n",
    "print(SMC100.state())\n",
    "SMC100.set_timeout_millis(50000)"
   ]
  },
  {
   "cell_type": "code",
   "execution_count": 46,
   "metadata": {},
   "outputs": [
    {
     "data": {
      "text/plain": [
       "'Controller has been connected successfully COM5'"
      ]
     },
     "execution_count": 46,
     "metadata": {},
     "output_type": "execute_result"
    }
   ],
   "source": [
    "userInfoController =  {\n",
    "                            \"Name\"                  : \"SC1\",\n",
    "                            \"COM\"                   : 5,\n",
    "                            \"Number_of_controllers\" : 3\n",
    "                        }\n",
    "userInfoController=json.dumps(userInfoController)\n",
    "SMC100.ConnectCamera(userInfoController)"
   ]
  },
  {
   "cell_type": "markdown",
   "metadata": {},
   "source": [
    "### Function that recives the Coord and send it to te Controller via Tango"
   ]
  },
  {
   "cell_type": "code",
   "execution_count": 47,
   "metadata": {},
   "outputs": [],
   "source": [
    "def MoveToPosition(coords):\n",
    "    userInfoP = {\n",
    "                    \"Name\" : \"SC1\",\n",
    "                    \"Axis\" : X\n",
    "                }\n",
    "    userInfoP_String = json.dumps(userInfoP)\n",
    "    current_position_x = SMC100.GetPosition(userInfoP_String)\n",
    "    userInfoP[\"Axis\"] = Y\n",
    "    userInfoP_String = json.dumps(userInfoP)\n",
    "    current_position_y = SMC100.GetPosition(userInfoP_String)\n",
    "\n",
    "    # print(current_position_x)\n",
    "    # print(current_position_y)\n",
    "\n",
    "    userInfoMA =    {\n",
    "                        \"Name\"              : \"SC1\",\n",
    "                        \"Axis\"              : Z,\n",
    "                        \"Position\"          : 5,\n",
    "                        \"Wait_to_finish\"    : True\n",
    "                    }\n",
    "\n",
    "    if coords[0] == current_position_x:\n",
    "        userInfoMA[\"Axis\"] = Y\n",
    "        userInfoMA[\"Position\"] = coords[1]\n",
    "        userInfoMA_string = json.dumps(userInfoMA)\n",
    "        SMC100.MoveAbsolute_mm(userInfoMA_string)\n",
    "\n",
    "    elif coords[1] == current_position_y:\n",
    "        \n",
    "        userInfoMA[\"Axis\"] = X\n",
    "        userInfoMA[\"Position\"] = coords[0]\n",
    "        userInfoMA_string = json.dumps(userInfoMA)\n",
    "        SMC100.MoveAbsolute_mm(userInfoMA_string)\n",
    "\n",
    "    elif coords[0]!=current_position_x and coords[1]!=current_position_y:\n",
    "        userInfoMA[\"Wait_to_finish\" ] = False\n",
    "        userInfoMA[\"Axis\"] = Y\n",
    "        userInfoMA[\"Position\"] = coords[1]\n",
    "        userInfoMA_string = json.dumps(userInfoMA)\n",
    "        SMC100.MoveAbsolute_mm(userInfoMA_string)\n",
    "        userInfoMA[\"Axis\"] = X\n",
    "        userInfoMA[\"Position\"] = coords[0]\n",
    "        userInfoMA_string = json.dumps(userInfoMA)\n",
    "        SMC100.MoveAbsolute_mm(userInfoMA_string)\n",
    "\n",
    "    else:\n",
    "        print(\"Error: Wrong input. Please insert a position to which you want to move as x, y\",\n",
    "            \"(e.g. the input of 1.2, 3.3 will move the motors to a position where x=1.2 mm and y=3.3 mm)\")"
   ]
  },
  {
   "cell_type": "markdown",
   "metadata": {},
   "source": [
    "Simple test of the movement of the motors "
   ]
  },
  {
   "cell_type": "code",
   "execution_count": 48,
   "metadata": {},
   "outputs": [],
   "source": [
    "#run to make a move to a desired position\n",
    "\n",
    "a = input(\"insert a desired position [mm] as a pair x, y: \")\n",
    "coords = list(float(x) for x in a.split(\",\"))\n",
    "MoveToPosition(coords)"
   ]
  },
  {
   "cell_type": "markdown",
   "metadata": {},
   "source": [
    "The experiment code "
   ]
  },
  {
   "cell_type": "code",
   "execution_count": 41,
   "metadata": {},
   "outputs": [],
   "source": [
    "#insert desired values for time_s, list_of_points and movement_distance to move motors and make holes (open shutter) in a desired pattern\n",
    "\n",
    "#insert the amount of time [s] for the shutter to remain open\n",
    "time_s = float(5)\n",
    "#insert coordinates of desired positions [mm] as a list of pairs [[x1,y1],[x2,y2],...], e.g.[[6,6], [4,6.5], [2.5,8]]: \"\n",
    "list_of_points = [[6,6], [4,6.53], [2.53,8] , [2,10], [2.53,12], [4,13.46], [6,14], [8,13.46], [9.46,12], [10,10], [9.46,8], [8,6.53]]\n",
    "#insert the maximum distance in one of the dimensions (x or y) between two of the neighbouring points\n",
    "movement_distance = 2\n",
    "\n",
    "userInfoMTA = {\n",
    "                    \"Name\"              : \"SC1\",\n",
    "                    \"Axis\"              : X,\n",
    "                    \"Position\"          : movement_distance\n",
    "                    }\n",
    "Device_to_Open =    {\n",
    "                        \"Name\"      : \"AS1\"\n",
    "                    }\n",
    "Device_to_Open_string = json.dumps(Device_to_Open)\n",
    "\n",
    "for coords in list_of_points:\n",
    "\n",
    "    userInfoMTA[\"Position\"] = movement_distance\n",
    "    userInfoMTA_string = json.dumps(userInfoMTA)\n",
    "\n",
    "    time_to_wait_move = float(SMC100.GetMotionTimeForRelativeMove(userInfoMTA_string))\n",
    "    \n",
    "    MoveToPosition(coords)\n",
    "    time.sleep(time_to_wait_move)\n",
    "    # this closes and opens the shutter for time_s secs\n",
    "    \n",
    "    Arduino_Shutter.OpenShutter(Device_to_Open_string)\n",
    "    time.sleep(time_s)\n",
    "    Arduino_Shutter.CloseShutter(Device_to_Open_string)"
   ]
  },
  {
   "cell_type": "markdown",
   "metadata": {},
   "source": [
    "### Returning the motor to the Home position"
   ]
  },
  {
   "cell_type": "code",
   "execution_count": 50,
   "metadata": {},
   "outputs": [
    {
     "name": "stdout",
     "output_type": "stream",
     "text": [
      "Home motor 1\n",
      "Home motor 2\n",
      "Home motor 3\n"
     ]
    }
   ],
   "source": [
    "userInfoH = {\n",
    "                        \"Name\"              : \"SC1\",\n",
    "                        \"Axis\"              : 1,\n",
    "                        \"Wait_to_finish\"    : False\n",
    "            } \n",
    "for i in range(1,4):\n",
    "    print(\"Home motor\",str(i))\n",
    "    userInfoH[\"Axis\"] = i\n",
    "    userInfoH_string = json.dumps(userInfoH)\n",
    "    SMC100.Home(userInfoH_string)"
   ]
  },
  {
   "cell_type": "code",
   "execution_count": null,
   "metadata": {},
   "outputs": [],
   "source": []
  }
 ],
 "metadata": {
  "kernelspec": {
   "display_name": "Python 3",
   "language": "python",
   "name": "python3"
  },
  "language_info": {
   "codemirror_mode": {
    "name": "ipython",
    "version": 3
   },
   "file_extension": ".py",
   "mimetype": "text/x-python",
   "name": "python",
   "nbconvert_exporter": "python",
   "pygments_lexer": "ipython3",
   "version": "3.12.3"
  }
 },
 "nbformat": 4,
 "nbformat_minor": 2
}
